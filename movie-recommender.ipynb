{
 "cells": [
  {
   "cell_type": "markdown",
   "source": [
    "!kaggle datasets list -s \"MPST: Movie Plot Synopses with Tags\""
   ],
   "metadata": {
    "collapsed": false,
    "pycharm": {
     "name": "#%% md\n"
    }
   }
  },
  {
   "cell_type": "markdown",
   "source": [
    "!kaggle datasets download -d \"cryptexcode/mpst-movie-plot-synopses-with-tags\""
   ],
   "metadata": {
    "collapsed": false,
    "pycharm": {
     "name": "#%% md\n"
    }
   }
  },
  {
   "cell_type": "markdown",
   "source": [
    "from zipfile import ZipFile\n",
    "with ZipFile(\"mpst-movie-plot-synopses-with-tags.zip\",'r') as zipfile:\n",
    "    zipfile.extractall(\"data\")"
   ],
   "metadata": {
    "collapsed": false,
    "pycharm": {
     "name": "#%% md\n"
    }
   }
  },
  {
   "cell_type": "code",
   "execution_count": 1,
   "metadata": {
    "_cell_guid": "b1076dfc-b9ad-4769-8c92-a6c4dae69d19",
    "_uuid": "8f2839f25d086af736a60e9eeb907d3b93b6e0e5",
    "execution": {
     "iopub.execute_input": "2022-09-18T18:45:48.344827Z",
     "iopub.status.busy": "2022-09-18T18:45:48.344407Z",
     "iopub.status.idle": "2022-09-18T18:45:48.357071Z",
     "shell.execute_reply": "2022-09-18T18:45:48.355847Z",
     "shell.execute_reply.started": "2022-09-18T18:45:48.344795Z"
    },
    "pycharm": {
     "name": "#%%\n"
    }
   },
   "outputs": [
    {
     "name": "stdout",
     "output_type": "stream",
     "text": [
      ".\\movie-recommender.ipynb\n",
      ".\\mpst-movie-plot-synopses-with-tags.zip\n",
      ".\\.idea\\.gitignore\n",
      ".\\.idea\\content based recommender.iml\n",
      ".\\.idea\\misc.xml\n",
      ".\\.idea\\modules.xml\n",
      ".\\.idea\\workspace.xml\n",
      ".\\.idea\\inspectionProfiles\\profiles_settings.xml\n",
      ".\\.idea\\inspectionProfiles\\Project_Default.xml\n",
      ".\\.ipynb_checkpoints\\movie-recommender-checkpoint.ipynb\n",
      ".\\data\\mpst_full_data.csv\n",
      ".\\data\\partition.json\n"
     ]
    }
   ],
   "source": [
    "import numpy as np # linear algebra\n",
    "import pandas as pd # data processing, CSV file I/O (e.g. pd.read_csv)\n",
    "\n",
    "import os\n",
    "for dirname, _, filenames in os.walk('.'):\n",
    "    for filename in filenames:\n",
    "        print(os.path.join(dirname, filename))\n"
   ]
  },
  {
   "cell_type": "code",
   "execution_count": 2,
   "metadata": {
    "execution": {
     "iopub.execute_input": "2022-09-18T18:45:48.359884Z",
     "iopub.status.busy": "2022-09-18T18:45:48.358990Z",
     "iopub.status.idle": "2022-09-18T18:45:49.303389Z",
     "shell.execute_reply": "2022-09-18T18:45:49.301969Z",
     "shell.execute_reply.started": "2022-09-18T18:45:48.359848Z"
    },
    "pycharm": {
     "name": "#%%\n"
    }
   },
   "outputs": [],
   "source": [
    "data = pd.read_csv('data/mpst_full_data.csv')"
   ]
  },
  {
   "cell_type": "code",
   "execution_count": 3,
   "metadata": {
    "execution": {
     "iopub.execute_input": "2022-09-18T18:45:49.306567Z",
     "iopub.status.busy": "2022-09-18T18:45:49.306219Z",
     "iopub.status.idle": "2022-09-18T18:45:49.321152Z",
     "shell.execute_reply": "2022-09-18T18:45:49.319889Z",
     "shell.execute_reply.started": "2022-09-18T18:45:49.306537Z"
    },
    "pycharm": {
     "name": "#%%\n"
    }
   },
   "outputs": [],
   "source": [
    "data = data.drop_duplicates(subset='title').reset_index(drop=True)"
   ]
  },
  {
   "cell_type": "code",
   "execution_count": 4,
   "metadata": {
    "execution": {
     "iopub.execute_input": "2022-09-18T18:45:49.323629Z",
     "iopub.status.busy": "2022-09-18T18:45:49.323135Z",
     "iopub.status.idle": "2022-09-18T18:45:49.436545Z",
     "shell.execute_reply": "2022-09-18T18:45:49.435239Z",
     "shell.execute_reply.started": "2022-09-18T18:45:49.323573Z"
    },
    "pycharm": {
     "name": "#%%\n"
    }
   },
   "outputs": [
    {
     "name": "stdout",
     "output_type": "stream",
     "text": [
      "(13757, 6) \n",
      "\n",
      "     imdb_id                                          title  \\\n",
      "0  tt0057603                        I tre volti della paura   \n",
      "1  tt1733125  Dungeons & Dragons: The Book of Vile Darkness   \n",
      "2  tt0033045                     The Shop Around the Corner   \n",
      "3  tt0113862                             Mr. Holland's Opus   \n",
      "4  tt0086250                                       Scarface   \n",
      "\n",
      "                                       plot_synopsis  \\\n",
      "0  Note: this synopsis is for the orginal Italian...   \n",
      "1  Two thousand years ago, Nhagruul the Foul, a s...   \n",
      "2  Matuschek's, a gift store in Budapest, is the ...   \n",
      "3  Glenn Holland, not a morning person by anyone'...   \n",
      "4  In May 1980, a Cuban man named Tony Montana (A...   \n",
      "\n",
      "                                                tags  split synopsis_source  \n",
      "0          cult, horror, gothic, murder, atmospheric  train            imdb  \n",
      "1                                           violence  train            imdb  \n",
      "2                                           romantic   test            imdb  \n",
      "3             inspiring, romantic, stupid, feel-good  train            imdb  \n",
      "4  cruelty, murder, dramatic, cult, violence, atm...    val            imdb   \n",
      "\n",
      "\n",
      "          imdb_id                    title  \\\n",
      "count       13757                    13757   \n",
      "unique      13757                    13757   \n",
      "top     tt0057603  I tre volti della paura   \n",
      "freq            1                        1   \n",
      "\n",
      "                                            plot_synopsis    tags  split  \\\n",
      "count                                               13757   13757  13757   \n",
      "unique                                              13458    5355      3   \n",
      "top     Dragon Ball Z picks up five years after the en...  murder  train   \n",
      "freq                                                   12     900   8798   \n",
      "\n",
      "       synopsis_source  \n",
      "count            13757  \n",
      "unique               2  \n",
      "top          wikipedia  \n",
      "freq              9698  \n"
     ]
    }
   ],
   "source": [
    "print(data.shape,'\\n')\n",
    "print(data.head(),'\\n\\n')\n",
    "print(data.describe())"
   ]
  },
  {
   "cell_type": "code",
   "execution_count": 5,
   "metadata": {
    "execution": {
     "iopub.execute_input": "2022-09-18T18:45:49.439608Z",
     "iopub.status.busy": "2022-09-18T18:45:49.439242Z",
     "iopub.status.idle": "2022-09-18T18:45:49.450576Z",
     "shell.execute_reply": "2022-09-18T18:45:49.448977Z",
     "shell.execute_reply.started": "2022-09-18T18:45:49.439575Z"
    },
    "pycharm": {
     "name": "#%%\n"
    }
   },
   "outputs": [],
   "source": [
    "ind_dict = dict(zip(data['title'],data.index))"
   ]
  },
  {
   "cell_type": "code",
   "execution_count": 6,
   "outputs": [],
   "source": [
    "from nltk.stem.porter import PorterStemmer\n",
    "from nltk.tokenize import word_tokenize\n",
    "from nltk.corpus import stopwords\n"
   ],
   "metadata": {
    "collapsed": false,
    "pycharm": {
     "name": "#%%\n"
    }
   }
  },
  {
   "cell_type": "markdown",
   "source": [
    "import nltk\n",
    "nltk.download(\"stopwords\")\n",
    "nltk.download('punkt')"
   ],
   "metadata": {
    "collapsed": false,
    "pycharm": {
     "name": "#%% md\n"
    }
   }
  },
  {
   "cell_type": "code",
   "execution_count": 7,
   "outputs": [],
   "source": [
    "class CustomTokenizer:\n",
    "    def __init__(self):\n",
    "        self.stemmer = PorterStemmer()\n",
    "    def __call__(self, doc):\n",
    "        return [self.stemmer.stem(token) for token in word_tokenize(doc) if token.isalpha()]\n",
    "custom_tokenizer = CustomTokenizer()\n",
    "stopwords = custom_tokenizer(' '.join(stopwords.words('english')))"
   ],
   "metadata": {
    "collapsed": false,
    "pycharm": {
     "name": "#%%\n"
    }
   }
  },
  {
   "cell_type": "code",
   "execution_count": null,
   "outputs": [],
   "source": [
    "stopwords"
   ],
   "metadata": {
    "collapsed": false,
    "pycharm": {
     "name": "#%%\n",
     "is_executing": true
    }
   }
  },
  {
   "cell_type": "code",
   "execution_count": 8,
   "metadata": {
    "execution": {
     "iopub.execute_input": "2022-09-18T18:45:49.454492Z",
     "iopub.status.busy": "2022-09-18T18:45:49.453439Z",
     "iopub.status.idle": "2022-09-18T18:45:49.462768Z",
     "shell.execute_reply": "2022-09-18T18:45:49.461707Z",
     "shell.execute_reply.started": "2022-09-18T18:45:49.454452Z"
    },
    "pycharm": {
     "name": "#%%\n"
    }
   },
   "outputs": [],
   "source": [
    "from sklearn.metrics.pairwise import linear_kernel\n",
    "from sklearn.feature_extraction.text import TfidfVectorizer"
   ]
  },
  {
   "cell_type": "code",
   "execution_count": null,
   "metadata": {
    "execution": {
     "iopub.execute_input": "2022-09-18T18:45:49.465079Z",
     "iopub.status.busy": "2022-09-18T18:45:49.464690Z",
     "iopub.status.idle": "2022-09-18T18:46:00.507612Z",
     "shell.execute_reply": "2022-09-18T18:46:00.506581Z",
     "shell.execute_reply.started": "2022-09-18T18:45:49.465020Z"
    },
    "pycharm": {
     "name": "#%%\n",
     "is_executing": true
    }
   },
   "outputs": [
    {
     "name": "stderr",
     "output_type": "stream",
     "text": [
      "c:\\python39\\lib\\site-packages\\sklearn\\feature_extraction\\text.py:404: UserWarning: Your stop_words may be inconsistent with your preprocessing. Tokenizing the stop words generated tokens ['becau'] not in stop_words.\n",
      "  warnings.warn(\n"
     ]
    }
   ],
   "source": [
    "vect = TfidfVectorizer(stop_words=stopwords,max_features=500,token_pattern=r'\\b[A-Za-z][A-Za-z]+\\b', tokenizer=custom_tokenizer)\n",
    "bag = vect.fit_transform(data['plot_synopsis']).toarray()\n",
    "movie_df = pd.DataFrame(bag,columns=vect.get_feature_names_out())"
   ]
  },
  {
   "cell_type": "code",
   "execution_count": null,
   "metadata": {
    "execution": {
     "iopub.execute_input": "2022-09-18T18:46:00.509538Z",
     "iopub.status.busy": "2022-09-18T18:46:00.509162Z",
     "iopub.status.idle": "2022-09-18T18:46:27.419679Z",
     "shell.execute_reply": "2022-09-18T18:46:27.418657Z",
     "shell.execute_reply.started": "2022-09-18T18:46:00.509495Z"
    },
    "pycharm": {
     "name": "#%%\n",
     "is_executing": true
    }
   },
   "outputs": [],
   "source": [
    "lk = linear_kernel(bag,bag)"
   ]
  },
  {
   "cell_type": "code",
   "execution_count": null,
   "outputs": [],
   "source": [
    "def recommend_movie(movie_name):\n",
    "    idx = ind_dict['The Shawshank Redemption']\n",
    "    tags = data.loc[idx,'tags'].split(', ')\n",
    "    lk_w_idx = list(enumerate(lk[idx]))\n",
    "    found = [tupl[0] for tupl in sorted(lk_w_idx,reverse=True, key=lambda x:x[1])]\n",
    "    movies  = data.loc[found,['title']][1:100]\n",
    "    movies['score'] = range(99,0,-1)\n",
    "    for idx in movies.index.to_list():\n",
    "    movie_tags = data.loc[idx, 'tags'].split(\", \")\n",
    "    for tag in movie_tags:\n",
    "        if tag in tags:\n",
    "            movies.loc[idx,'score'] += 10\n",
    "        else:\n",
    "            movies.loc[idx,'score'] -= 2\n",
    "    return movies.sort_values(by='score',ascending=False)[:10]"
   ],
   "metadata": {
    "collapsed": false,
    "pycharm": {
     "name": "#%%\n",
     "is_executing": true
    }
   }
  }
 ],
 "metadata": {
  "kernelspec": {
   "display_name": "Python 3",
   "language": "python",
   "name": "python3"
  },
  "language_info": {
   "codemirror_mode": {
    "name": "ipython",
    "version": 3
   },
   "file_extension": ".py",
   "mimetype": "text/x-python",
   "name": "python",
   "nbconvert_exporter": "python",
   "pygments_lexer": "ipython3",
   "version": "3.9.4"
  }
 },
 "nbformat": 4,
 "nbformat_minor": 4
}