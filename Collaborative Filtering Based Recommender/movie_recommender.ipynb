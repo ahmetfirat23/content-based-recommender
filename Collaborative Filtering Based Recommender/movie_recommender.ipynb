{
 "cells": [
  {
   "cell_type": "code",
   "execution_count": 286,
   "metadata": {
    "collapsed": true,
    "pycharm": {
     "name": "#%%\n"
    }
   },
   "outputs": [],
   "source": [
    "import pandas as pd\n",
    "import numpy as np\n",
    "import matplotlib.pyplot as plt\n",
    "from sklearn.preprocessing import StandardScaler, MinMaxScaler\n",
    "from sklearn.model_selection import train_test_split\n",
    "import tensorflow as tf\n",
    "from tensorflow.keras.preprocessing.sequence import pad_sequences"
   ]
  },
  {
   "cell_type": "code",
   "execution_count": 287,
   "outputs": [],
   "source": [
    "ratings_data = pd.read_csv('ml-latest-small/ratings.csv')\n",
    "movies_data = pd.read_csv('ml-latest-small/movies.csv')"
   ],
   "metadata": {
    "collapsed": false,
    "pycharm": {
     "name": "#%%\n"
    }
   }
  },
  {
   "cell_type": "code",
   "execution_count": 288,
   "outputs": [
    {
     "data": {
      "text/plain": "   userId  movieId  rating  timestamp\n0       1        1     4.0  964982703\n1       1        3     4.0  964981247\n2       1        6     4.0  964982224\n3       1       47     5.0  964983815\n4       1       50     5.0  964982931",
      "text/html": "<div>\n<style scoped>\n    .dataframe tbody tr th:only-of-type {\n        vertical-align: middle;\n    }\n\n    .dataframe tbody tr th {\n        vertical-align: top;\n    }\n\n    .dataframe thead th {\n        text-align: right;\n    }\n</style>\n<table border=\"1\" class=\"dataframe\">\n  <thead>\n    <tr style=\"text-align: right;\">\n      <th></th>\n      <th>userId</th>\n      <th>movieId</th>\n      <th>rating</th>\n      <th>timestamp</th>\n    </tr>\n  </thead>\n  <tbody>\n    <tr>\n      <th>0</th>\n      <td>1</td>\n      <td>1</td>\n      <td>4.0</td>\n      <td>964982703</td>\n    </tr>\n    <tr>\n      <th>1</th>\n      <td>1</td>\n      <td>3</td>\n      <td>4.0</td>\n      <td>964981247</td>\n    </tr>\n    <tr>\n      <th>2</th>\n      <td>1</td>\n      <td>6</td>\n      <td>4.0</td>\n      <td>964982224</td>\n    </tr>\n    <tr>\n      <th>3</th>\n      <td>1</td>\n      <td>47</td>\n      <td>5.0</td>\n      <td>964983815</td>\n    </tr>\n    <tr>\n      <th>4</th>\n      <td>1</td>\n      <td>50</td>\n      <td>5.0</td>\n      <td>964982931</td>\n    </tr>\n  </tbody>\n</table>\n</div>"
     },
     "execution_count": 288,
     "metadata": {},
     "output_type": "execute_result"
    }
   ],
   "source": [
    "ratings_data.head()"
   ],
   "metadata": {
    "collapsed": false,
    "pycharm": {
     "name": "#%%\n"
    }
   }
  },
  {
   "cell_type": "code",
   "execution_count": 289,
   "outputs": [
    {
     "data": {
      "text/plain": "   movieId                               title  \\\n0        1                    Toy Story (1995)   \n1        2                      Jumanji (1995)   \n2        3             Grumpier Old Men (1995)   \n3        4            Waiting to Exhale (1995)   \n4        5  Father of the Bride Part II (1995)   \n\n                                        genres  \n0  Adventure|Animation|Children|Comedy|Fantasy  \n1                   Adventure|Children|Fantasy  \n2                               Comedy|Romance  \n3                         Comedy|Drama|Romance  \n4                                       Comedy  ",
      "text/html": "<div>\n<style scoped>\n    .dataframe tbody tr th:only-of-type {\n        vertical-align: middle;\n    }\n\n    .dataframe tbody tr th {\n        vertical-align: top;\n    }\n\n    .dataframe thead th {\n        text-align: right;\n    }\n</style>\n<table border=\"1\" class=\"dataframe\">\n  <thead>\n    <tr style=\"text-align: right;\">\n      <th></th>\n      <th>movieId</th>\n      <th>title</th>\n      <th>genres</th>\n    </tr>\n  </thead>\n  <tbody>\n    <tr>\n      <th>0</th>\n      <td>1</td>\n      <td>Toy Story (1995)</td>\n      <td>Adventure|Animation|Children|Comedy|Fantasy</td>\n    </tr>\n    <tr>\n      <th>1</th>\n      <td>2</td>\n      <td>Jumanji (1995)</td>\n      <td>Adventure|Children|Fantasy</td>\n    </tr>\n    <tr>\n      <th>2</th>\n      <td>3</td>\n      <td>Grumpier Old Men (1995)</td>\n      <td>Comedy|Romance</td>\n    </tr>\n    <tr>\n      <th>3</th>\n      <td>4</td>\n      <td>Waiting to Exhale (1995)</td>\n      <td>Comedy|Drama|Romance</td>\n    </tr>\n    <tr>\n      <th>4</th>\n      <td>5</td>\n      <td>Father of the Bride Part II (1995)</td>\n      <td>Comedy</td>\n    </tr>\n  </tbody>\n</table>\n</div>"
     },
     "execution_count": 289,
     "metadata": {},
     "output_type": "execute_result"
    }
   ],
   "source": [
    "movies_data.head()"
   ],
   "metadata": {
    "collapsed": false,
    "pycharm": {
     "name": "#%%\n"
    }
   }
  },
  {
   "cell_type": "code",
   "execution_count": 290,
   "outputs": [
    {
     "data": {
      "text/plain": "0       [Adventure, Animation, Children, Comedy, Fantasy]\n1                          [Adventure, Children, Fantasy]\n2                                       [Comedy, Romance]\n3                                [Comedy, Drama, Romance]\n4                                                [Comedy]\n                              ...                        \n9737                 [Action, Animation, Comedy, Fantasy]\n9738                         [Animation, Comedy, Fantasy]\n9739                                              [Drama]\n9740                                  [Action, Animation]\n9741                                             [Comedy]\nName: genres, Length: 9742, dtype: object"
     },
     "execution_count": 290,
     "metadata": {},
     "output_type": "execute_result"
    }
   ],
   "source": [
    "movies_data.genres = movies_data.genres.str.split('|')\n",
    "movies_data.genres"
   ],
   "metadata": {
    "collapsed": false,
    "pycharm": {
     "name": "#%%\n"
    }
   }
  },
  {
   "cell_type": "code",
   "execution_count": 291,
   "outputs": [],
   "source": [
    "genre_list = [\"Action\",\"Adventure\",\"Animation\",\"Children\",\"Comedy\",\"Crime\",\"Documentary\",\"Drama\",\"Fantasy\",\"Film-Noir\",\"Horror\",\"Musical\",\"Mystery\",\"Romance\",\"Sci-Fi\",\"Thriller\",\"War\",\"Western\", \"IMAX\", \"(no genres listed)\"]"
   ],
   "metadata": {
    "collapsed": false,
    "pycharm": {
     "name": "#%%\n"
    }
   }
  },
  {
   "cell_type": "code",
   "execution_count": 292,
   "outputs": [],
   "source": [
    "movies_data[genre_list] = 0"
   ],
   "metadata": {
    "collapsed": false,
    "pycharm": {
     "name": "#%%\n"
    }
   }
  },
  {
   "cell_type": "code",
   "execution_count": 293,
   "outputs": [],
   "source": [
    "for idx, row in movies_data.iterrows():\n",
    "    for genre in row.genres:\n",
    "        movies_data.loc[idx, genre] = 1\n",
    "movies_data.drop('genres',axis=1, inplace=True)"
   ],
   "metadata": {
    "collapsed": false,
    "pycharm": {
     "name": "#%%\n"
    }
   }
  },
  {
   "cell_type": "code",
   "execution_count": 294,
   "outputs": [
    {
     "data": {
      "text/plain": "   movieId                               title  Action  Adventure  Animation  \\\n0        1                    Toy Story (1995)       0          1          1   \n1        2                      Jumanji (1995)       0          1          0   \n2        3             Grumpier Old Men (1995)       0          0          0   \n3        4            Waiting to Exhale (1995)       0          0          0   \n4        5  Father of the Bride Part II (1995)       0          0          0   \n\n   Children  Comedy  Crime  Documentary  Drama  ...  Horror  Musical  Mystery  \\\n0         1       1      0            0      0  ...       0        0        0   \n1         1       0      0            0      0  ...       0        0        0   \n2         0       1      0            0      0  ...       0        0        0   \n3         0       1      0            0      1  ...       0        0        0   \n4         0       1      0            0      0  ...       0        0        0   \n\n   Romance  Sci-Fi  Thriller  War  Western  IMAX  (no genres listed)  \n0        0       0         0    0        0     0                   0  \n1        0       0         0    0        0     0                   0  \n2        1       0         0    0        0     0                   0  \n3        1       0         0    0        0     0                   0  \n4        0       0         0    0        0     0                   0  \n\n[5 rows x 22 columns]",
      "text/html": "<div>\n<style scoped>\n    .dataframe tbody tr th:only-of-type {\n        vertical-align: middle;\n    }\n\n    .dataframe tbody tr th {\n        vertical-align: top;\n    }\n\n    .dataframe thead th {\n        text-align: right;\n    }\n</style>\n<table border=\"1\" class=\"dataframe\">\n  <thead>\n    <tr style=\"text-align: right;\">\n      <th></th>\n      <th>movieId</th>\n      <th>title</th>\n      <th>Action</th>\n      <th>Adventure</th>\n      <th>Animation</th>\n      <th>Children</th>\n      <th>Comedy</th>\n      <th>Crime</th>\n      <th>Documentary</th>\n      <th>Drama</th>\n      <th>...</th>\n      <th>Horror</th>\n      <th>Musical</th>\n      <th>Mystery</th>\n      <th>Romance</th>\n      <th>Sci-Fi</th>\n      <th>Thriller</th>\n      <th>War</th>\n      <th>Western</th>\n      <th>IMAX</th>\n      <th>(no genres listed)</th>\n    </tr>\n  </thead>\n  <tbody>\n    <tr>\n      <th>0</th>\n      <td>1</td>\n      <td>Toy Story (1995)</td>\n      <td>0</td>\n      <td>1</td>\n      <td>1</td>\n      <td>1</td>\n      <td>1</td>\n      <td>0</td>\n      <td>0</td>\n      <td>0</td>\n      <td>...</td>\n      <td>0</td>\n      <td>0</td>\n      <td>0</td>\n      <td>0</td>\n      <td>0</td>\n      <td>0</td>\n      <td>0</td>\n      <td>0</td>\n      <td>0</td>\n      <td>0</td>\n    </tr>\n    <tr>\n      <th>1</th>\n      <td>2</td>\n      <td>Jumanji (1995)</td>\n      <td>0</td>\n      <td>1</td>\n      <td>0</td>\n      <td>1</td>\n      <td>0</td>\n      <td>0</td>\n      <td>0</td>\n      <td>0</td>\n      <td>...</td>\n      <td>0</td>\n      <td>0</td>\n      <td>0</td>\n      <td>0</td>\n      <td>0</td>\n      <td>0</td>\n      <td>0</td>\n      <td>0</td>\n      <td>0</td>\n      <td>0</td>\n    </tr>\n    <tr>\n      <th>2</th>\n      <td>3</td>\n      <td>Grumpier Old Men (1995)</td>\n      <td>0</td>\n      <td>0</td>\n      <td>0</td>\n      <td>0</td>\n      <td>1</td>\n      <td>0</td>\n      <td>0</td>\n      <td>0</td>\n      <td>...</td>\n      <td>0</td>\n      <td>0</td>\n      <td>0</td>\n      <td>1</td>\n      <td>0</td>\n      <td>0</td>\n      <td>0</td>\n      <td>0</td>\n      <td>0</td>\n      <td>0</td>\n    </tr>\n    <tr>\n      <th>3</th>\n      <td>4</td>\n      <td>Waiting to Exhale (1995)</td>\n      <td>0</td>\n      <td>0</td>\n      <td>0</td>\n      <td>0</td>\n      <td>1</td>\n      <td>0</td>\n      <td>0</td>\n      <td>1</td>\n      <td>...</td>\n      <td>0</td>\n      <td>0</td>\n      <td>0</td>\n      <td>1</td>\n      <td>0</td>\n      <td>0</td>\n      <td>0</td>\n      <td>0</td>\n      <td>0</td>\n      <td>0</td>\n    </tr>\n    <tr>\n      <th>4</th>\n      <td>5</td>\n      <td>Father of the Bride Part II (1995)</td>\n      <td>0</td>\n      <td>0</td>\n      <td>0</td>\n      <td>0</td>\n      <td>1</td>\n      <td>0</td>\n      <td>0</td>\n      <td>0</td>\n      <td>...</td>\n      <td>0</td>\n      <td>0</td>\n      <td>0</td>\n      <td>0</td>\n      <td>0</td>\n      <td>0</td>\n      <td>0</td>\n      <td>0</td>\n      <td>0</td>\n      <td>0</td>\n    </tr>\n  </tbody>\n</table>\n<p>5 rows × 22 columns</p>\n</div>"
     },
     "execution_count": 294,
     "metadata": {},
     "output_type": "execute_result"
    }
   ],
   "source": [
    "movies_data.head()"
   ],
   "metadata": {
    "collapsed": false,
    "pycharm": {
     "name": "#%%\n"
    }
   }
  },
  {
   "cell_type": "code",
   "execution_count": 295,
   "outputs": [
    {
     "data": {
      "text/plain": "   userId  movieId  rating                        title  Action  Adventure  \\\n0       1        1     4.0             Toy Story (1995)       0          1   \n1       1        3     4.0      Grumpier Old Men (1995)       0          0   \n2       1        6     4.0                  Heat (1995)       1          0   \n3       1       47     5.0  Seven (a.k.a. Se7en) (1995)       0          0   \n4       1       50     5.0   Usual Suspects, The (1995)       0          0   \n\n   Animation  Children  Comedy  Crime  ...  Horror  Musical  Mystery  Romance  \\\n0          1         1       1      0  ...       0        0        0        0   \n1          0         0       1      0  ...       0        0        0        1   \n2          0         0       0      1  ...       0        0        0        0   \n3          0         0       0      0  ...       0        0        1        0   \n4          0         0       0      1  ...       0        0        1        0   \n\n   Sci-Fi  Thriller  War  Western  IMAX  (no genres listed)  \n0       0         0    0        0     0                   0  \n1       0         0    0        0     0                   0  \n2       0         1    0        0     0                   0  \n3       0         1    0        0     0                   0  \n4       0         1    0        0     0                   0  \n\n[5 rows x 24 columns]",
      "text/html": "<div>\n<style scoped>\n    .dataframe tbody tr th:only-of-type {\n        vertical-align: middle;\n    }\n\n    .dataframe tbody tr th {\n        vertical-align: top;\n    }\n\n    .dataframe thead th {\n        text-align: right;\n    }\n</style>\n<table border=\"1\" class=\"dataframe\">\n  <thead>\n    <tr style=\"text-align: right;\">\n      <th></th>\n      <th>userId</th>\n      <th>movieId</th>\n      <th>rating</th>\n      <th>title</th>\n      <th>Action</th>\n      <th>Adventure</th>\n      <th>Animation</th>\n      <th>Children</th>\n      <th>Comedy</th>\n      <th>Crime</th>\n      <th>...</th>\n      <th>Horror</th>\n      <th>Musical</th>\n      <th>Mystery</th>\n      <th>Romance</th>\n      <th>Sci-Fi</th>\n      <th>Thriller</th>\n      <th>War</th>\n      <th>Western</th>\n      <th>IMAX</th>\n      <th>(no genres listed)</th>\n    </tr>\n  </thead>\n  <tbody>\n    <tr>\n      <th>0</th>\n      <td>1</td>\n      <td>1</td>\n      <td>4.0</td>\n      <td>Toy Story (1995)</td>\n      <td>0</td>\n      <td>1</td>\n      <td>1</td>\n      <td>1</td>\n      <td>1</td>\n      <td>0</td>\n      <td>...</td>\n      <td>0</td>\n      <td>0</td>\n      <td>0</td>\n      <td>0</td>\n      <td>0</td>\n      <td>0</td>\n      <td>0</td>\n      <td>0</td>\n      <td>0</td>\n      <td>0</td>\n    </tr>\n    <tr>\n      <th>1</th>\n      <td>1</td>\n      <td>3</td>\n      <td>4.0</td>\n      <td>Grumpier Old Men (1995)</td>\n      <td>0</td>\n      <td>0</td>\n      <td>0</td>\n      <td>0</td>\n      <td>1</td>\n      <td>0</td>\n      <td>...</td>\n      <td>0</td>\n      <td>0</td>\n      <td>0</td>\n      <td>1</td>\n      <td>0</td>\n      <td>0</td>\n      <td>0</td>\n      <td>0</td>\n      <td>0</td>\n      <td>0</td>\n    </tr>\n    <tr>\n      <th>2</th>\n      <td>1</td>\n      <td>6</td>\n      <td>4.0</td>\n      <td>Heat (1995)</td>\n      <td>1</td>\n      <td>0</td>\n      <td>0</td>\n      <td>0</td>\n      <td>0</td>\n      <td>1</td>\n      <td>...</td>\n      <td>0</td>\n      <td>0</td>\n      <td>0</td>\n      <td>0</td>\n      <td>0</td>\n      <td>1</td>\n      <td>0</td>\n      <td>0</td>\n      <td>0</td>\n      <td>0</td>\n    </tr>\n    <tr>\n      <th>3</th>\n      <td>1</td>\n      <td>47</td>\n      <td>5.0</td>\n      <td>Seven (a.k.a. Se7en) (1995)</td>\n      <td>0</td>\n      <td>0</td>\n      <td>0</td>\n      <td>0</td>\n      <td>0</td>\n      <td>0</td>\n      <td>...</td>\n      <td>0</td>\n      <td>0</td>\n      <td>1</td>\n      <td>0</td>\n      <td>0</td>\n      <td>1</td>\n      <td>0</td>\n      <td>0</td>\n      <td>0</td>\n      <td>0</td>\n    </tr>\n    <tr>\n      <th>4</th>\n      <td>1</td>\n      <td>50</td>\n      <td>5.0</td>\n      <td>Usual Suspects, The (1995)</td>\n      <td>0</td>\n      <td>0</td>\n      <td>0</td>\n      <td>0</td>\n      <td>0</td>\n      <td>1</td>\n      <td>...</td>\n      <td>0</td>\n      <td>0</td>\n      <td>1</td>\n      <td>0</td>\n      <td>0</td>\n      <td>1</td>\n      <td>0</td>\n      <td>0</td>\n      <td>0</td>\n      <td>0</td>\n    </tr>\n  </tbody>\n</table>\n<p>5 rows × 24 columns</p>\n</div>"
     },
     "execution_count": 295,
     "metadata": {},
     "output_type": "execute_result"
    }
   ],
   "source": [
    "ratings_with_movies = ratings_data.join(movies_data.set_index('movieId'), on='movieId').drop('timestamp',axis=1)\n",
    "ratings_with_movies.head()"
   ],
   "metadata": {
    "collapsed": false,
    "pycharm": {
     "name": "#%%\n"
    }
   }
  },
  {
   "cell_type": "code",
   "execution_count": 296,
   "outputs": [
    {
     "data": {
      "text/plain": "          Action  Adventure  Animation  Children    Comedy     Crime  \\\nuserId                                                                 \n1       4.322222   4.388235   4.689655  4.547619  4.277108  4.355556   \n2       3.954545   4.166667   0.000000  0.000000  4.000000  3.800000   \n3       3.571429   2.727273   0.500000  0.500000  1.000000  0.500000   \n4       3.320000   3.655172   4.000000  3.800000  3.509615  3.814815   \n5       3.111111   3.250000   4.333333  4.111111  3.466667  3.833333   \n\n        Documentary     Drama   Fantasy  Film-Noir  ...   Musical   Mystery  \\\nuserId                                              ...                       \n1          0.000000  4.529412  4.297872        5.0  ...  4.681818  4.166667   \n2          4.333333  3.882353  0.000000        0.0  ...  0.000000  4.000000   \n3          0.000000  0.750000  3.375000        0.0  ...  0.500000  5.000000   \n4          4.000000  3.483333  3.684211        4.0  ...  4.000000  3.478261   \n5          0.000000  3.800000  4.142857        0.0  ...  4.400000  4.000000   \n\n         Romance    Sci-Fi  Thriller       War   Western      IMAX  \\\nuserId                                                               \n1       4.307692  4.225000  4.145455  4.500000  4.285714  0.000000   \n2       4.500000  3.875000  3.700000  4.500000  3.500000  3.750000   \n3       0.500000  4.200000  4.142857  0.500000  0.000000  0.000000   \n4       3.379310  2.833333  3.552632  3.571429  3.800000  3.000000   \n5       3.090909  2.500000  3.555556  3.333333  3.000000  3.666667   \n\n        (no genres listed)  avg_rating  \nuserId                                  \n1                      0.0    4.364154  \n2                      0.0    3.925850  \n3                      0.0    2.163604  \n4                      0.0    3.638532  \n5                      0.0    3.564405  \n\n[5 rows x 21 columns]",
      "text/html": "<div>\n<style scoped>\n    .dataframe tbody tr th:only-of-type {\n        vertical-align: middle;\n    }\n\n    .dataframe tbody tr th {\n        vertical-align: top;\n    }\n\n    .dataframe thead th {\n        text-align: right;\n    }\n</style>\n<table border=\"1\" class=\"dataframe\">\n  <thead>\n    <tr style=\"text-align: right;\">\n      <th></th>\n      <th>Action</th>\n      <th>Adventure</th>\n      <th>Animation</th>\n      <th>Children</th>\n      <th>Comedy</th>\n      <th>Crime</th>\n      <th>Documentary</th>\n      <th>Drama</th>\n      <th>Fantasy</th>\n      <th>Film-Noir</th>\n      <th>...</th>\n      <th>Musical</th>\n      <th>Mystery</th>\n      <th>Romance</th>\n      <th>Sci-Fi</th>\n      <th>Thriller</th>\n      <th>War</th>\n      <th>Western</th>\n      <th>IMAX</th>\n      <th>(no genres listed)</th>\n      <th>avg_rating</th>\n    </tr>\n    <tr>\n      <th>userId</th>\n      <th></th>\n      <th></th>\n      <th></th>\n      <th></th>\n      <th></th>\n      <th></th>\n      <th></th>\n      <th></th>\n      <th></th>\n      <th></th>\n      <th></th>\n      <th></th>\n      <th></th>\n      <th></th>\n      <th></th>\n      <th></th>\n      <th></th>\n      <th></th>\n      <th></th>\n      <th></th>\n      <th></th>\n    </tr>\n  </thead>\n  <tbody>\n    <tr>\n      <th>1</th>\n      <td>4.322222</td>\n      <td>4.388235</td>\n      <td>4.689655</td>\n      <td>4.547619</td>\n      <td>4.277108</td>\n      <td>4.355556</td>\n      <td>0.000000</td>\n      <td>4.529412</td>\n      <td>4.297872</td>\n      <td>5.0</td>\n      <td>...</td>\n      <td>4.681818</td>\n      <td>4.166667</td>\n      <td>4.307692</td>\n      <td>4.225000</td>\n      <td>4.145455</td>\n      <td>4.500000</td>\n      <td>4.285714</td>\n      <td>0.000000</td>\n      <td>0.0</td>\n      <td>4.364154</td>\n    </tr>\n    <tr>\n      <th>2</th>\n      <td>3.954545</td>\n      <td>4.166667</td>\n      <td>0.000000</td>\n      <td>0.000000</td>\n      <td>4.000000</td>\n      <td>3.800000</td>\n      <td>4.333333</td>\n      <td>3.882353</td>\n      <td>0.000000</td>\n      <td>0.0</td>\n      <td>...</td>\n      <td>0.000000</td>\n      <td>4.000000</td>\n      <td>4.500000</td>\n      <td>3.875000</td>\n      <td>3.700000</td>\n      <td>4.500000</td>\n      <td>3.500000</td>\n      <td>3.750000</td>\n      <td>0.0</td>\n      <td>3.925850</td>\n    </tr>\n    <tr>\n      <th>3</th>\n      <td>3.571429</td>\n      <td>2.727273</td>\n      <td>0.500000</td>\n      <td>0.500000</td>\n      <td>1.000000</td>\n      <td>0.500000</td>\n      <td>0.000000</td>\n      <td>0.750000</td>\n      <td>3.375000</td>\n      <td>0.0</td>\n      <td>...</td>\n      <td>0.500000</td>\n      <td>5.000000</td>\n      <td>0.500000</td>\n      <td>4.200000</td>\n      <td>4.142857</td>\n      <td>0.500000</td>\n      <td>0.000000</td>\n      <td>0.000000</td>\n      <td>0.0</td>\n      <td>2.163604</td>\n    </tr>\n    <tr>\n      <th>4</th>\n      <td>3.320000</td>\n      <td>3.655172</td>\n      <td>4.000000</td>\n      <td>3.800000</td>\n      <td>3.509615</td>\n      <td>3.814815</td>\n      <td>4.000000</td>\n      <td>3.483333</td>\n      <td>3.684211</td>\n      <td>4.0</td>\n      <td>...</td>\n      <td>4.000000</td>\n      <td>3.478261</td>\n      <td>3.379310</td>\n      <td>2.833333</td>\n      <td>3.552632</td>\n      <td>3.571429</td>\n      <td>3.800000</td>\n      <td>3.000000</td>\n      <td>0.0</td>\n      <td>3.638532</td>\n    </tr>\n    <tr>\n      <th>5</th>\n      <td>3.111111</td>\n      <td>3.250000</td>\n      <td>4.333333</td>\n      <td>4.111111</td>\n      <td>3.466667</td>\n      <td>3.833333</td>\n      <td>0.000000</td>\n      <td>3.800000</td>\n      <td>4.142857</td>\n      <td>0.0</td>\n      <td>...</td>\n      <td>4.400000</td>\n      <td>4.000000</td>\n      <td>3.090909</td>\n      <td>2.500000</td>\n      <td>3.555556</td>\n      <td>3.333333</td>\n      <td>3.000000</td>\n      <td>3.666667</td>\n      <td>0.0</td>\n      <td>3.564405</td>\n    </tr>\n  </tbody>\n</table>\n<p>5 rows × 21 columns</p>\n</div>"
     },
     "execution_count": 296,
     "metadata": {},
     "output_type": "execute_result"
    }
   ],
   "source": [
    "user_data = pd.DataFrame(columns = genre_list, index=ratings_with_movies['userId'].unique())\n",
    "for genre in genre_list:\n",
    "    user_data[genre] = ratings_with_movies[ratings_with_movies[genre]==1].groupby('userId').mean().rating\n",
    "\n",
    "user_data['avg_rating'] = user_data.mean(axis=1)\n",
    "user_data = user_data.fillna(0)\n",
    "user_data.index.name = 'userId'\n",
    "user_data.head()"
   ],
   "metadata": {
    "collapsed": false,
    "pycharm": {
     "name": "#%%\n"
    }
   }
  },
  {
   "cell_type": "code",
   "execution_count": 297,
   "outputs": [
    {
     "data": {
      "text/plain": "                                      title  Action  Adventure  Animation  \\\nmovieId                                                                     \n1                          Toy Story (1995)       0          1          1   \n2                            Jumanji (1995)       0          1          0   \n3                   Grumpier Old Men (1995)       0          0          0   \n4                  Waiting to Exhale (1995)       0          0          0   \n5        Father of the Bride Part II (1995)       0          0          0   \n\n         Children  Comedy  Crime  Documentary  Drama  Fantasy  ...  Musical  \\\nmovieId                                                        ...            \n1               1       1      0            0      0        1  ...        0   \n2               1       0      0            0      0        1  ...        0   \n3               0       1      0            0      0        0  ...        0   \n4               0       1      0            0      1        0  ...        0   \n5               0       1      0            0      0        0  ...        0   \n\n         Mystery  Romance  Sci-Fi  Thriller  War  Western  IMAX  \\\nmovieId                                                           \n1              0        0       0         0    0        0     0   \n2              0        0       0         0    0        0     0   \n3              0        1       0         0    0        0     0   \n4              0        1       0         0    0        0     0   \n5              0        0       0         0    0        0     0   \n\n         (no genres listed)  avg_rating  \nmovieId                                  \n1                         0    3.920930  \n2                         0    3.431818  \n3                         0    3.259615  \n4                         0    2.357143  \n5                         0    3.071429  \n\n[5 rows x 22 columns]",
      "text/html": "<div>\n<style scoped>\n    .dataframe tbody tr th:only-of-type {\n        vertical-align: middle;\n    }\n\n    .dataframe tbody tr th {\n        vertical-align: top;\n    }\n\n    .dataframe thead th {\n        text-align: right;\n    }\n</style>\n<table border=\"1\" class=\"dataframe\">\n  <thead>\n    <tr style=\"text-align: right;\">\n      <th></th>\n      <th>title</th>\n      <th>Action</th>\n      <th>Adventure</th>\n      <th>Animation</th>\n      <th>Children</th>\n      <th>Comedy</th>\n      <th>Crime</th>\n      <th>Documentary</th>\n      <th>Drama</th>\n      <th>Fantasy</th>\n      <th>...</th>\n      <th>Musical</th>\n      <th>Mystery</th>\n      <th>Romance</th>\n      <th>Sci-Fi</th>\n      <th>Thriller</th>\n      <th>War</th>\n      <th>Western</th>\n      <th>IMAX</th>\n      <th>(no genres listed)</th>\n      <th>avg_rating</th>\n    </tr>\n    <tr>\n      <th>movieId</th>\n      <th></th>\n      <th></th>\n      <th></th>\n      <th></th>\n      <th></th>\n      <th></th>\n      <th></th>\n      <th></th>\n      <th></th>\n      <th></th>\n      <th></th>\n      <th></th>\n      <th></th>\n      <th></th>\n      <th></th>\n      <th></th>\n      <th></th>\n      <th></th>\n      <th></th>\n      <th></th>\n      <th></th>\n    </tr>\n  </thead>\n  <tbody>\n    <tr>\n      <th>1</th>\n      <td>Toy Story (1995)</td>\n      <td>0</td>\n      <td>1</td>\n      <td>1</td>\n      <td>1</td>\n      <td>1</td>\n      <td>0</td>\n      <td>0</td>\n      <td>0</td>\n      <td>1</td>\n      <td>...</td>\n      <td>0</td>\n      <td>0</td>\n      <td>0</td>\n      <td>0</td>\n      <td>0</td>\n      <td>0</td>\n      <td>0</td>\n      <td>0</td>\n      <td>0</td>\n      <td>3.920930</td>\n    </tr>\n    <tr>\n      <th>2</th>\n      <td>Jumanji (1995)</td>\n      <td>0</td>\n      <td>1</td>\n      <td>0</td>\n      <td>1</td>\n      <td>0</td>\n      <td>0</td>\n      <td>0</td>\n      <td>0</td>\n      <td>1</td>\n      <td>...</td>\n      <td>0</td>\n      <td>0</td>\n      <td>0</td>\n      <td>0</td>\n      <td>0</td>\n      <td>0</td>\n      <td>0</td>\n      <td>0</td>\n      <td>0</td>\n      <td>3.431818</td>\n    </tr>\n    <tr>\n      <th>3</th>\n      <td>Grumpier Old Men (1995)</td>\n      <td>0</td>\n      <td>0</td>\n      <td>0</td>\n      <td>0</td>\n      <td>1</td>\n      <td>0</td>\n      <td>0</td>\n      <td>0</td>\n      <td>0</td>\n      <td>...</td>\n      <td>0</td>\n      <td>0</td>\n      <td>1</td>\n      <td>0</td>\n      <td>0</td>\n      <td>0</td>\n      <td>0</td>\n      <td>0</td>\n      <td>0</td>\n      <td>3.259615</td>\n    </tr>\n    <tr>\n      <th>4</th>\n      <td>Waiting to Exhale (1995)</td>\n      <td>0</td>\n      <td>0</td>\n      <td>0</td>\n      <td>0</td>\n      <td>1</td>\n      <td>0</td>\n      <td>0</td>\n      <td>1</td>\n      <td>0</td>\n      <td>...</td>\n      <td>0</td>\n      <td>0</td>\n      <td>1</td>\n      <td>0</td>\n      <td>0</td>\n      <td>0</td>\n      <td>0</td>\n      <td>0</td>\n      <td>0</td>\n      <td>2.357143</td>\n    </tr>\n    <tr>\n      <th>5</th>\n      <td>Father of the Bride Part II (1995)</td>\n      <td>0</td>\n      <td>0</td>\n      <td>0</td>\n      <td>0</td>\n      <td>1</td>\n      <td>0</td>\n      <td>0</td>\n      <td>0</td>\n      <td>0</td>\n      <td>...</td>\n      <td>0</td>\n      <td>0</td>\n      <td>0</td>\n      <td>0</td>\n      <td>0</td>\n      <td>0</td>\n      <td>0</td>\n      <td>0</td>\n      <td>0</td>\n      <td>3.071429</td>\n    </tr>\n  </tbody>\n</table>\n<p>5 rows × 22 columns</p>\n</div>"
     },
     "execution_count": 297,
     "metadata": {},
     "output_type": "execute_result"
    }
   ],
   "source": [
    "movies_data = movies_data.set_index('movieId')\n",
    "movies_data['avg_rating'] = ratings_with_movies.groupby('movieId').mean().rating\n",
    "movies_data.head()"
   ],
   "metadata": {
    "collapsed": false,
    "pycharm": {
     "name": "#%%\n"
    }
   }
  },
  {
   "cell_type": "code",
   "execution_count": 298,
   "outputs": [],
   "source": [
    "y_pd = pd.DataFrame(index=user_data.index, columns=movies_data.index)\n",
    "for idx, row in ratings_with_movies.iterrows():\n",
    "    y_pd.loc[row.userId,row.movieId] = row.rating"
   ],
   "metadata": {
    "collapsed": false,
    "pycharm": {
     "name": "#%%\n"
    }
   }
  },
  {
   "cell_type": "code",
   "execution_count": 299,
   "outputs": [
    {
     "data": {
      "text/plain": "(610, 9742)"
     },
     "execution_count": 299,
     "metadata": {},
     "output_type": "execute_result"
    }
   ],
   "source": [
    "y_pd.shape"
   ],
   "metadata": {
    "collapsed": false,
    "pycharm": {
     "name": "#%%\n"
    }
   }
  },
  {
   "cell_type": "code",
   "execution_count": 300,
   "outputs": [
    {
     "data": {
      "text/plain": "          Action  Adventure  Animation  Children    Comedy     Crime  \\\nuserId                                                                 \n606     3.178808   3.503401   3.714286  3.448980  3.565321  3.654135   \n607     3.722222   3.466667   3.333333  3.421053  3.327273  3.814815   \n608     3.330325   3.220994   3.118182  2.460227  2.736620  3.613014   \n609     3.090909   3.200000   3.000000  3.000000  3.285714  3.500000   \n610     3.600580   3.705993   3.901515  3.651786  3.731144  3.800366   \n\n        Documentary     Drama   Fantasy  Film-Noir  ...   Musical   Mystery  \\\nuserId                                              ...                       \n606             3.8  3.787966  3.597938     3.8125  ...  3.727273  3.791209   \n607             0.0  4.012195  3.571429     0.0000  ...  3.600000  4.647059   \n608             3.0  3.437500  3.000000     3.7500  ...  2.757576  3.550725   \n609             3.0  3.368421  3.000000     0.0000  ...  0.000000  0.000000   \n610             4.2  3.874739  3.592715     4.3500  ...  3.928571  3.766667   \n\n         Romance    Sci-Fi  Thriller       War   Western      IMAX  \\\nuserId                                                               \n606     3.740845  3.556962  3.525126  3.792308  3.411765  3.062500   \n607     3.517241  3.250000  4.114754  4.166667  4.000000  5.000000   \n608     2.886792  3.296407  3.536680  3.578947  2.636364  4.000000   \n609     3.200000  3.000000  3.285714  3.500000  4.000000  3.000000   \n610     3.731092  3.659363  3.573529  3.776596  3.742424  3.628049   \n\n        (no genres listed)  avg_rating  \nuserId                                  \n606                    0.0    3.579867  \n607                    0.0    3.828176  \n608                    0.0    3.222628  \n609                    0.0    3.245672  \n610                    0.0    3.774828  \n\n[5 rows x 21 columns]",
      "text/html": "<div>\n<style scoped>\n    .dataframe tbody tr th:only-of-type {\n        vertical-align: middle;\n    }\n\n    .dataframe tbody tr th {\n        vertical-align: top;\n    }\n\n    .dataframe thead th {\n        text-align: right;\n    }\n</style>\n<table border=\"1\" class=\"dataframe\">\n  <thead>\n    <tr style=\"text-align: right;\">\n      <th></th>\n      <th>Action</th>\n      <th>Adventure</th>\n      <th>Animation</th>\n      <th>Children</th>\n      <th>Comedy</th>\n      <th>Crime</th>\n      <th>Documentary</th>\n      <th>Drama</th>\n      <th>Fantasy</th>\n      <th>Film-Noir</th>\n      <th>...</th>\n      <th>Musical</th>\n      <th>Mystery</th>\n      <th>Romance</th>\n      <th>Sci-Fi</th>\n      <th>Thriller</th>\n      <th>War</th>\n      <th>Western</th>\n      <th>IMAX</th>\n      <th>(no genres listed)</th>\n      <th>avg_rating</th>\n    </tr>\n    <tr>\n      <th>userId</th>\n      <th></th>\n      <th></th>\n      <th></th>\n      <th></th>\n      <th></th>\n      <th></th>\n      <th></th>\n      <th></th>\n      <th></th>\n      <th></th>\n      <th></th>\n      <th></th>\n      <th></th>\n      <th></th>\n      <th></th>\n      <th></th>\n      <th></th>\n      <th></th>\n      <th></th>\n      <th></th>\n      <th></th>\n    </tr>\n  </thead>\n  <tbody>\n    <tr>\n      <th>606</th>\n      <td>3.178808</td>\n      <td>3.503401</td>\n      <td>3.714286</td>\n      <td>3.448980</td>\n      <td>3.565321</td>\n      <td>3.654135</td>\n      <td>3.8</td>\n      <td>3.787966</td>\n      <td>3.597938</td>\n      <td>3.8125</td>\n      <td>...</td>\n      <td>3.727273</td>\n      <td>3.791209</td>\n      <td>3.740845</td>\n      <td>3.556962</td>\n      <td>3.525126</td>\n      <td>3.792308</td>\n      <td>3.411765</td>\n      <td>3.062500</td>\n      <td>0.0</td>\n      <td>3.579867</td>\n    </tr>\n    <tr>\n      <th>607</th>\n      <td>3.722222</td>\n      <td>3.466667</td>\n      <td>3.333333</td>\n      <td>3.421053</td>\n      <td>3.327273</td>\n      <td>3.814815</td>\n      <td>0.0</td>\n      <td>4.012195</td>\n      <td>3.571429</td>\n      <td>0.0000</td>\n      <td>...</td>\n      <td>3.600000</td>\n      <td>4.647059</td>\n      <td>3.517241</td>\n      <td>3.250000</td>\n      <td>4.114754</td>\n      <td>4.166667</td>\n      <td>4.000000</td>\n      <td>5.000000</td>\n      <td>0.0</td>\n      <td>3.828176</td>\n    </tr>\n    <tr>\n      <th>608</th>\n      <td>3.330325</td>\n      <td>3.220994</td>\n      <td>3.118182</td>\n      <td>2.460227</td>\n      <td>2.736620</td>\n      <td>3.613014</td>\n      <td>3.0</td>\n      <td>3.437500</td>\n      <td>3.000000</td>\n      <td>3.7500</td>\n      <td>...</td>\n      <td>2.757576</td>\n      <td>3.550725</td>\n      <td>2.886792</td>\n      <td>3.296407</td>\n      <td>3.536680</td>\n      <td>3.578947</td>\n      <td>2.636364</td>\n      <td>4.000000</td>\n      <td>0.0</td>\n      <td>3.222628</td>\n    </tr>\n    <tr>\n      <th>609</th>\n      <td>3.090909</td>\n      <td>3.200000</td>\n      <td>3.000000</td>\n      <td>3.000000</td>\n      <td>3.285714</td>\n      <td>3.500000</td>\n      <td>3.0</td>\n      <td>3.368421</td>\n      <td>3.000000</td>\n      <td>0.0000</td>\n      <td>...</td>\n      <td>0.000000</td>\n      <td>0.000000</td>\n      <td>3.200000</td>\n      <td>3.000000</td>\n      <td>3.285714</td>\n      <td>3.500000</td>\n      <td>4.000000</td>\n      <td>3.000000</td>\n      <td>0.0</td>\n      <td>3.245672</td>\n    </tr>\n    <tr>\n      <th>610</th>\n      <td>3.600580</td>\n      <td>3.705993</td>\n      <td>3.901515</td>\n      <td>3.651786</td>\n      <td>3.731144</td>\n      <td>3.800366</td>\n      <td>4.2</td>\n      <td>3.874739</td>\n      <td>3.592715</td>\n      <td>4.3500</td>\n      <td>...</td>\n      <td>3.928571</td>\n      <td>3.766667</td>\n      <td>3.731092</td>\n      <td>3.659363</td>\n      <td>3.573529</td>\n      <td>3.776596</td>\n      <td>3.742424</td>\n      <td>3.628049</td>\n      <td>0.0</td>\n      <td>3.774828</td>\n    </tr>\n  </tbody>\n</table>\n<p>5 rows × 21 columns</p>\n</div>"
     },
     "execution_count": 300,
     "metadata": {},
     "output_type": "execute_result"
    }
   ],
   "source": [
    "user_data.tail()"
   ],
   "metadata": {
    "collapsed": false,
    "pycharm": {
     "name": "#%%\n"
    }
   }
  },
  {
   "cell_type": "code",
   "execution_count": 301,
   "outputs": [
    {
     "data": {
      "text/plain": "movieId 1      2      3      4      5      6      7      8      9      10      \\\nuserId                                                                          \n606        2.5    NaN    NaN    NaN    NaN    NaN    2.5    NaN    NaN    NaN   \n607        4.0    NaN    NaN    NaN    NaN    NaN    NaN    NaN    NaN    NaN   \n608        2.5    2.0    2.0    NaN    NaN    NaN    NaN    NaN    NaN    4.0   \n609        3.0    NaN    NaN    NaN    NaN    NaN    NaN    NaN    NaN    4.0   \n610        5.0    NaN    NaN    NaN    NaN    5.0    NaN    NaN    NaN    NaN   \n\nmovieId  ... 193565 193567 193571 193573 193579 193581 193583 193585 193587  \\\nuserId   ...                                                                  \n606      ...    NaN    NaN    NaN    NaN    NaN    NaN    NaN    NaN    NaN   \n607      ...    NaN    NaN    NaN    NaN    NaN    NaN    NaN    NaN    NaN   \n608      ...    NaN    NaN    NaN    NaN    NaN    NaN    NaN    NaN    NaN   \n609      ...    NaN    NaN    NaN    NaN    NaN    NaN    NaN    NaN    NaN   \n610      ...    NaN    NaN    NaN    NaN    NaN    NaN    NaN    NaN    NaN   \n\nmovieId 193609  \nuserId          \n606        NaN  \n607        NaN  \n608        NaN  \n609        NaN  \n610        NaN  \n\n[5 rows x 9742 columns]",
      "text/html": "<div>\n<style scoped>\n    .dataframe tbody tr th:only-of-type {\n        vertical-align: middle;\n    }\n\n    .dataframe tbody tr th {\n        vertical-align: top;\n    }\n\n    .dataframe thead th {\n        text-align: right;\n    }\n</style>\n<table border=\"1\" class=\"dataframe\">\n  <thead>\n    <tr style=\"text-align: right;\">\n      <th>movieId</th>\n      <th>1</th>\n      <th>2</th>\n      <th>3</th>\n      <th>4</th>\n      <th>5</th>\n      <th>6</th>\n      <th>7</th>\n      <th>8</th>\n      <th>9</th>\n      <th>10</th>\n      <th>...</th>\n      <th>193565</th>\n      <th>193567</th>\n      <th>193571</th>\n      <th>193573</th>\n      <th>193579</th>\n      <th>193581</th>\n      <th>193583</th>\n      <th>193585</th>\n      <th>193587</th>\n      <th>193609</th>\n    </tr>\n    <tr>\n      <th>userId</th>\n      <th></th>\n      <th></th>\n      <th></th>\n      <th></th>\n      <th></th>\n      <th></th>\n      <th></th>\n      <th></th>\n      <th></th>\n      <th></th>\n      <th></th>\n      <th></th>\n      <th></th>\n      <th></th>\n      <th></th>\n      <th></th>\n      <th></th>\n      <th></th>\n      <th></th>\n      <th></th>\n      <th></th>\n    </tr>\n  </thead>\n  <tbody>\n    <tr>\n      <th>606</th>\n      <td>2.5</td>\n      <td>NaN</td>\n      <td>NaN</td>\n      <td>NaN</td>\n      <td>NaN</td>\n      <td>NaN</td>\n      <td>2.5</td>\n      <td>NaN</td>\n      <td>NaN</td>\n      <td>NaN</td>\n      <td>...</td>\n      <td>NaN</td>\n      <td>NaN</td>\n      <td>NaN</td>\n      <td>NaN</td>\n      <td>NaN</td>\n      <td>NaN</td>\n      <td>NaN</td>\n      <td>NaN</td>\n      <td>NaN</td>\n      <td>NaN</td>\n    </tr>\n    <tr>\n      <th>607</th>\n      <td>4.0</td>\n      <td>NaN</td>\n      <td>NaN</td>\n      <td>NaN</td>\n      <td>NaN</td>\n      <td>NaN</td>\n      <td>NaN</td>\n      <td>NaN</td>\n      <td>NaN</td>\n      <td>NaN</td>\n      <td>...</td>\n      <td>NaN</td>\n      <td>NaN</td>\n      <td>NaN</td>\n      <td>NaN</td>\n      <td>NaN</td>\n      <td>NaN</td>\n      <td>NaN</td>\n      <td>NaN</td>\n      <td>NaN</td>\n      <td>NaN</td>\n    </tr>\n    <tr>\n      <th>608</th>\n      <td>2.5</td>\n      <td>2.0</td>\n      <td>2.0</td>\n      <td>NaN</td>\n      <td>NaN</td>\n      <td>NaN</td>\n      <td>NaN</td>\n      <td>NaN</td>\n      <td>NaN</td>\n      <td>4.0</td>\n      <td>...</td>\n      <td>NaN</td>\n      <td>NaN</td>\n      <td>NaN</td>\n      <td>NaN</td>\n      <td>NaN</td>\n      <td>NaN</td>\n      <td>NaN</td>\n      <td>NaN</td>\n      <td>NaN</td>\n      <td>NaN</td>\n    </tr>\n    <tr>\n      <th>609</th>\n      <td>3.0</td>\n      <td>NaN</td>\n      <td>NaN</td>\n      <td>NaN</td>\n      <td>NaN</td>\n      <td>NaN</td>\n      <td>NaN</td>\n      <td>NaN</td>\n      <td>NaN</td>\n      <td>4.0</td>\n      <td>...</td>\n      <td>NaN</td>\n      <td>NaN</td>\n      <td>NaN</td>\n      <td>NaN</td>\n      <td>NaN</td>\n      <td>NaN</td>\n      <td>NaN</td>\n      <td>NaN</td>\n      <td>NaN</td>\n      <td>NaN</td>\n    </tr>\n    <tr>\n      <th>610</th>\n      <td>5.0</td>\n      <td>NaN</td>\n      <td>NaN</td>\n      <td>NaN</td>\n      <td>NaN</td>\n      <td>5.0</td>\n      <td>NaN</td>\n      <td>NaN</td>\n      <td>NaN</td>\n      <td>NaN</td>\n      <td>...</td>\n      <td>NaN</td>\n      <td>NaN</td>\n      <td>NaN</td>\n      <td>NaN</td>\n      <td>NaN</td>\n      <td>NaN</td>\n      <td>NaN</td>\n      <td>NaN</td>\n      <td>NaN</td>\n      <td>NaN</td>\n    </tr>\n  </tbody>\n</table>\n<p>5 rows × 9742 columns</p>\n</div>"
     },
     "execution_count": 301,
     "metadata": {},
     "output_type": "execute_result"
    }
   ],
   "source": [
    "y_pd.tail()"
   ],
   "metadata": {
    "collapsed": false,
    "pycharm": {
     "name": "#%%\n"
    }
   }
  },
  {
   "cell_type": "code",
   "execution_count": 302,
   "outputs": [
    {
     "name": "stdout",
     "output_type": "stream",
     "text": [
      "1\n",
      "2\n",
      "3\n",
      "4\n"
     ]
    }
   ],
   "source": [
    "count=0\n",
    "while user_data.shape[0]<movies_data.shape[0] and count < 30:\n",
    "    count+=1\n",
    "    user_data = pd.concat([user_data,user_data], axis=0)\n",
    "    y_pd = pd.concat([y_pd,y_pd],axis=0)\n",
    "    print(count)\n",
    "user_data = user_data[:movies_data.shape[0]]\n",
    "y_pd = y_pd.iloc[:movies_data.shape[0]].fillna(0)"
   ],
   "metadata": {
    "collapsed": false,
    "pycharm": {
     "name": "#%%\n"
    }
   }
  },
  {
   "cell_type": "code",
   "execution_count": 303,
   "outputs": [],
   "source": [
    "y_scaler = MinMaxScaler((0,1))\n",
    "\n",
    "scaled_movie_data = movies_data.drop('title',axis=1).apply(lambda x: round(x*10))\n",
    "scaled_user_data = user_data.apply(lambda x: round(x*10))\n",
    "scaled_y = y_scaler.fit(y_pd).transform(y_pd)"
   ],
   "metadata": {
    "collapsed": false,
    "pycharm": {
     "name": "#%%\n"
    }
   }
  },
  {
   "cell_type": "code",
   "execution_count": 304,
   "outputs": [
    {
     "data": {
      "text/plain": "50.0"
     },
     "execution_count": 304,
     "metadata": {},
     "output_type": "execute_result"
    }
   ],
   "source": [
    "scaled_user_data.max().max()"
   ],
   "metadata": {
    "collapsed": false,
    "pycharm": {
     "name": "#%%\n"
    }
   }
  },
  {
   "cell_type": "code",
   "execution_count": 305,
   "outputs": [
    {
     "data": {
      "text/plain": "50.0"
     },
     "execution_count": 305,
     "metadata": {},
     "output_type": "execute_result"
    }
   ],
   "source": [
    "scaled_movie_data.max().max()"
   ],
   "metadata": {
    "collapsed": false,
    "pycharm": {
     "name": "#%%\n"
    }
   }
  },
  {
   "cell_type": "code",
   "execution_count": 306,
   "outputs": [],
   "source": [
    "movie_train, movie_test = train_test_split(scaled_movie_data, test_size=0.2)\n",
    "user_train, user_test = train_test_split(scaled_user_data,  test_size=0.2)\n",
    "y_train, y_test = train_test_split(scaled_y, test_size=0.2)"
   ],
   "metadata": {
    "collapsed": false,
    "pycharm": {
     "name": "#%%\n"
    }
   }
  },
  {
   "cell_type": "code",
   "execution_count": 307,
   "outputs": [
    {
     "name": "stdout",
     "output_type": "stream",
     "text": [
      "Model: \"model_47\"\n",
      "__________________________________________________________________________________________________\n",
      " Layer (type)                   Output Shape         Param #     Connected to                     \n",
      "==================================================================================================\n",
      " input_126 (InputLayer)         [(None, 21)]         0           []                               \n",
      "                                                                                                  \n",
      " input_125 (InputLayer)         [(None, 21)]         0           []                               \n",
      "                                                                                                  \n",
      " sequential_128 (Sequential)    (None, 32)           42656       ['input_126[0][0]']              \n",
      "                                                                                                  \n",
      " sequential_127 (Sequential)    (None, 32)           42656       ['input_125[0][0]']              \n",
      "                                                                                                  \n",
      " reshape_30 (Reshape)           (None, 32, 1)        0           ['sequential_128[0][0]']         \n",
      "                                                                                                  \n",
      " reshape_29 (Reshape)           (None, 32, 1)        0           ['sequential_127[0][0]']         \n",
      "                                                                                                  \n",
      " tf.linalg.matmul_43 (TFOpLambd  (None, 1, 1)        0           ['reshape_30[0][0]',             \n",
      " a)                                                               'reshape_29[0][0]']             \n",
      "                                                                                                  \n",
      " tf.math.sigmoid_17 (TFOpLambda  (None, 1, 1)        0           ['tf.linalg.matmul_43[0][0]']    \n",
      " )                                                                                                \n",
      "                                                                                                  \n",
      "==================================================================================================\n",
      "Total params: 85,312\n",
      "Trainable params: 85,312\n",
      "Non-trainable params: 0\n",
      "__________________________________________________________________________________________________\n"
     ]
    }
   ],
   "source": [
    "movie_model = tf.keras.models.Sequential([\n",
    "    #tf.keras.layers.Embedding(input_dim = 51, output_dim = 64, input_length=21),\n",
    "    tf.keras.layers.Dense(256, activation='relu'),\n",
    "    tf.keras.layers.Dense(128, activation='relu'),\n",
    "    tf.keras.layers.Dense(32),\n",
    "])\n",
    "\n",
    "user_model = tf.keras.models.Sequential([\n",
    "    #tf.keras.layers.Embedding(input_dim = 51, output_dim= 64, input_length=21),\n",
    "    tf.keras.layers.Dense(256, activation='relu'),\n",
    "    tf.keras.layers.Dense(128, activation='relu'),\n",
    "    tf.keras.layers.Dense(32),\n",
    "])\n",
    "\n",
    "movie_input = tf.keras.layers.Input(shape=scaled_movie_data.shape[1])\n",
    "movie_output = movie_model(movie_input)\n",
    "movie_output = tf.keras.layers.Reshape((32,1))(movie_output)\n",
    "#movie_output = tf.linalg.l2_normalize(movie_output)\n",
    "\n",
    "user_input = tf.keras.layers.Input(shape=scaled_user_data.shape[1])\n",
    "user_output = user_model(user_input)\n",
    "user_output = tf.keras.layers.Reshape((32,1))(user_output)\n",
    "#user_output = tf.linalg.l2_normalize(user_output, axis=1)\n",
    "\n",
    "output = tf.linalg.matmul(user_output, movie_output, transpose_a=True)\n",
    "output = tf.keras.activations.sigmoid(output)\n",
    "\n",
    "model = tf.keras.Model([movie_input, user_input],output)\n",
    "\n",
    "model.summary()"
   ],
   "metadata": {
    "collapsed": false,
    "pycharm": {
     "name": "#%%\n"
    }
   }
  },
  {
   "cell_type": "code",
   "execution_count": 308,
   "outputs": [
    {
     "data": {
      "image/png": "[encoded data removed]",
      "text/plain": "<IPython.core.display.Image object>"
     },
     "execution_count": 308,
     "metadata": {},
     "output_type": "execute_result"
    }
   ],
   "source": [
    "tf.keras.utils.plot_model(model)"
   ],
   "metadata": {
    "collapsed": false,
    "pycharm": {
     "name": "#%%\n"
    }
   }
  },
  {
   "cell_type": "code",
   "execution_count": 310,
   "outputs": [],
   "source": [
    "model.compile(optimizer=tf.keras.optimizers.Adam(learning_rate=0.01), loss=tf.keras.losses.MeanSquaredError(),metrics=['accuracy'])"
   ],
   "metadata": {
    "collapsed": false,
    "pycharm": {
     "name": "#%%\n"
    }
   }
  },
  {
   "cell_type": "code",
   "execution_count": 312,
   "outputs": [
    {
     "name": "stdout",
     "output_type": "stream",
     "text": [
      "Epoch 1/3\n",
      "244/244 [==============================] - 3s 9ms/step - loss: nan - accuracy: 0.9753\n",
      "Epoch 2/3\n",
      "244/244 [==============================] - 2s 9ms/step - loss: nan - accuracy: 0.9820\n",
      "Epoch 3/3\n",
      "244/244 [==============================] - 2s 8ms/step - loss: nan - accuracy: 0.9820\n"
     ]
    },
    {
     "data": {
      "text/plain": "<keras.callbacks.History at 0x15f2a6062b0>"
     },
     "execution_count": 312,
     "metadata": {},
     "output_type": "execute_result"
    }
   ],
   "source": [
    "model.fit([movie_train, user_train], y_train[:, :7793].diagonal(), epochs=3 )"
   ],
   "metadata": {
    "collapsed": false,
    "pycharm": {
     "name": "#%%\n"
    }
   }
  },
  {
   "cell_type": "code",
   "execution_count": 313,
   "outputs": [
    {
     "name": "stdout",
     "output_type": "stream",
     "text": [
      "61/61 [==============================] - 0s 3ms/step\n"
     ]
    }
   ],
   "source": [
    "a = model.predict([movie_test, user_test])"
   ],
   "metadata": {
    "collapsed": false,
    "pycharm": {
     "name": "#%%\n"
    }
   }
  },
  {
   "cell_type": "code",
   "execution_count": 320,
   "outputs": [
    {
     "data": {
      "text/plain": "array([[[nan]],\n\n       [[nan]],\n\n       [[nan]],\n\n       ...,\n\n       [[nan]],\n\n       [[nan]],\n\n       [[nan]]], dtype=float32)"
     },
     "execution_count": 320,
     "metadata": {},
     "output_type": "execute_result"
    }
   ],
   "source": [
    "a"
   ],
   "metadata": {
    "collapsed": false,
    "pycharm": {
     "name": "#%%\n"
    }
   }
  },
  {
   "cell_type": "code",
   "execution_count": 314,
   "outputs": [
    {
     "name": "stdout",
     "output_type": "stream",
     "text": [
      "61/61 [==============================] - 1s 6ms/step - loss: nan - accuracy: 0.9579\n"
     ]
    },
    {
     "data": {
      "text/plain": "[nan, 0.9579271674156189]"
     },
     "execution_count": 314,
     "metadata": {},
     "output_type": "execute_result"
    }
   ],
   "source": [
    "model.evaluate([movie_test, user_test], y_test.diagonal())"
   ],
   "metadata": {
    "collapsed": false,
    "pycharm": {
     "name": "#%%\n"
    }
   }
  },
  {
   "cell_type": "code",
   "execution_count": 315,
   "outputs": [
    {
     "name": "stdout",
     "output_type": "stream",
     "text": [
      "(7793, 21) (7793, 21) (7793, 9742)\n"
     ]
    }
   ],
   "source": [
    "print(movie_train.shape, user_train.shape, y_train.shape)"
   ],
   "metadata": {
    "collapsed": false,
    "pycharm": {
     "name": "#%%\n"
    }
   }
  },
  {
   "cell_type": "code",
   "execution_count": 316,
   "outputs": [
    {
     "data": {
      "text/plain": "         Action  Adventure  Animation  Children  Comedy  Crime  Documentary  \\\nmovieId                                                                       \n5011          0          0          0         0       0      0            0   \n128852        0          0          0         0      10      0            0   \n1031          0         10          0        10       0      0            0   \n127136        0          0          0         0       0      0            0   \n63853         0         10          0         0       0      0            0   \n\n         Drama  Fantasy  Film-Noir  ...  Musical  Mystery  Romance  Sci-Fi  \\\nmovieId                             ...                                      \n5011        10        0          0  ...        0        0       10       0   \n128852       0        0          0  ...        0        0        0       0   \n1031         0        0          0  ...       10        0        0       0   \n127136      10        0          0  ...        0       10        0       0   \n63853       10        0          0  ...        0        0        0       0   \n\n         Thriller  War  Western  IMAX  (no genres listed)  avg_rating  \nmovieId                                                                \n5011            0    0        0     0                   0        38.0  \n128852          0    0        0     0                   0        38.0  \n1031            0    0        0     0                   0        35.0  \n127136         10    0        0     0                   0        32.0  \n63853           0   10       10     0                   0        32.0  \n\n[5 rows x 21 columns]",
      "text/html": "<div>\n<style scoped>\n    .dataframe tbody tr th:only-of-type {\n        vertical-align: middle;\n    }\n\n    .dataframe tbody tr th {\n        vertical-align: top;\n    }\n\n    .dataframe thead th {\n        text-align: right;\n    }\n</style>\n<table border=\"1\" class=\"dataframe\">\n  <thead>\n    <tr style=\"text-align: right;\">\n      <th></th>\n      <th>Action</th>\n      <th>Adventure</th>\n      <th>Animation</th>\n      <th>Children</th>\n      <th>Comedy</th>\n      <th>Crime</th>\n      <th>Documentary</th>\n      <th>Drama</th>\n      <th>Fantasy</th>\n      <th>Film-Noir</th>\n      <th>...</th>\n      <th>Musical</th>\n      <th>Mystery</th>\n      <th>Romance</th>\n      <th>Sci-Fi</th>\n      <th>Thriller</th>\n      <th>War</th>\n      <th>Western</th>\n      <th>IMAX</th>\n      <th>(no genres listed)</th>\n      <th>avg_rating</th>\n    </tr>\n    <tr>\n      <th>movieId</th>\n      <th></th>\n      <th></th>\n      <th></th>\n      <th></th>\n      <th></th>\n      <th></th>\n      <th></th>\n      <th></th>\n      <th></th>\n      <th></th>\n      <th></th>\n      <th></th>\n      <th></th>\n      <th></th>\n      <th></th>\n      <th></th>\n      <th></th>\n      <th></th>\n      <th></th>\n      <th></th>\n      <th></th>\n    </tr>\n  </thead>\n  <tbody>\n    <tr>\n      <th>5011</th>\n      <td>0</td>\n      <td>0</td>\n      <td>0</td>\n      <td>0</td>\n      <td>0</td>\n      <td>0</td>\n      <td>0</td>\n      <td>10</td>\n      <td>0</td>\n      <td>0</td>\n      <td>...</td>\n      <td>0</td>\n      <td>0</td>\n      <td>10</td>\n      <td>0</td>\n      <td>0</td>\n      <td>0</td>\n      <td>0</td>\n      <td>0</td>\n      <td>0</td>\n      <td>38.0</td>\n    </tr>\n    <tr>\n      <th>128852</th>\n      <td>0</td>\n      <td>0</td>\n      <td>0</td>\n      <td>0</td>\n      <td>10</td>\n      <td>0</td>\n      <td>0</td>\n      <td>0</td>\n      <td>0</td>\n      <td>0</td>\n      <td>...</td>\n      <td>0</td>\n      <td>0</td>\n      <td>0</td>\n      <td>0</td>\n      <td>0</td>\n      <td>0</td>\n      <td>0</td>\n      <td>0</td>\n      <td>0</td>\n      <td>38.0</td>\n    </tr>\n    <tr>\n      <th>1031</th>\n      <td>0</td>\n      <td>10</td>\n      <td>0</td>\n      <td>10</td>\n      <td>0</td>\n      <td>0</td>\n      <td>0</td>\n      <td>0</td>\n      <td>0</td>\n      <td>0</td>\n      <td>...</td>\n      <td>10</td>\n      <td>0</td>\n      <td>0</td>\n      <td>0</td>\n      <td>0</td>\n      <td>0</td>\n      <td>0</td>\n      <td>0</td>\n      <td>0</td>\n      <td>35.0</td>\n    </tr>\n    <tr>\n      <th>127136</th>\n      <td>0</td>\n      <td>0</td>\n      <td>0</td>\n      <td>0</td>\n      <td>0</td>\n      <td>0</td>\n      <td>0</td>\n      <td>10</td>\n      <td>0</td>\n      <td>0</td>\n      <td>...</td>\n      <td>0</td>\n      <td>10</td>\n      <td>0</td>\n      <td>0</td>\n      <td>10</td>\n      <td>0</td>\n      <td>0</td>\n      <td>0</td>\n      <td>0</td>\n      <td>32.0</td>\n    </tr>\n    <tr>\n      <th>63853</th>\n      <td>0</td>\n      <td>10</td>\n      <td>0</td>\n      <td>0</td>\n      <td>0</td>\n      <td>0</td>\n      <td>0</td>\n      <td>10</td>\n      <td>0</td>\n      <td>0</td>\n      <td>...</td>\n      <td>0</td>\n      <td>0</td>\n      <td>0</td>\n      <td>0</td>\n      <td>0</td>\n      <td>10</td>\n      <td>10</td>\n      <td>0</td>\n      <td>0</td>\n      <td>32.0</td>\n    </tr>\n  </tbody>\n</table>\n<p>5 rows × 21 columns</p>\n</div>"
     },
     "execution_count": 316,
     "metadata": {},
     "output_type": "execute_result"
    }
   ],
   "source": [
    "movie_train[:5]"
   ],
   "metadata": {
    "collapsed": false,
    "pycharm": {
     "name": "#%%\n"
    }
   }
  },
  {
   "cell_type": "code",
   "execution_count": 317,
   "outputs": [
    {
     "data": {
      "text/plain": "        Action  Adventure  Animation  Children  Comedy  Crime  Documentary  \\\nuserId                                                                       \n392       33.0       35.0        0.0       0.0    32.0   28.0          0.0   \n375       35.0       41.0       32.0      34.0    40.0   43.0          0.0   \n125       37.0       36.0       39.0      37.0    39.0   39.0         25.0   \n470       36.0       35.0       35.0      36.0    36.0   33.0          0.0   \n47        28.0       30.0        0.0      30.0    25.0   33.0         33.0   \n\n        Drama  Fantasy  Film-Noir  ...  Musical  Mystery  Romance  Sci-Fi  \\\nuserId                             ...                                      \n392      32.0     40.0        0.0  ...      0.0      0.0     31.0    27.0   \n375      43.0     30.0        0.0  ...     30.0     48.0     36.0    32.0   \n125      40.0     38.0       38.0  ...     39.0     41.0     40.0    38.0   \n470      37.0     37.0        0.0  ...     35.0     30.0     38.0    39.0   \n47       32.0     25.0        0.0  ...     29.0     27.0     29.0    28.0   \n\n        Thriller   War  Western  IMAX  (no genres listed)  avg_rating  \nuserId                                                                 \n392         28.0   0.0      0.0   0.0                 0.0        32.0  \n375         37.0  45.0      0.0  30.0                 0.0        38.0  \n125         38.0  37.0     39.0  36.0                45.0        38.0  \n470         34.0  42.0     40.0  33.0                 0.0        36.0  \n47          28.0  35.0     35.0  29.0                 0.0        29.0  \n\n[5 rows x 21 columns]",
      "text/html": "<div>\n<style scoped>\n    .dataframe tbody tr th:only-of-type {\n        vertical-align: middle;\n    }\n\n    .dataframe tbody tr th {\n        vertical-align: top;\n    }\n\n    .dataframe thead th {\n        text-align: right;\n    }\n</style>\n<table border=\"1\" class=\"dataframe\">\n  <thead>\n    <tr style=\"text-align: right;\">\n      <th></th>\n      <th>Action</th>\n      <th>Adventure</th>\n      <th>Animation</th>\n      <th>Children</th>\n      <th>Comedy</th>\n      <th>Crime</th>\n      <th>Documentary</th>\n      <th>Drama</th>\n      <th>Fantasy</th>\n      <th>Film-Noir</th>\n      <th>...</th>\n      <th>Musical</th>\n      <th>Mystery</th>\n      <th>Romance</th>\n      <th>Sci-Fi</th>\n      <th>Thriller</th>\n      <th>War</th>\n      <th>Western</th>\n      <th>IMAX</th>\n      <th>(no genres listed)</th>\n      <th>avg_rating</th>\n    </tr>\n    <tr>\n      <th>userId</th>\n      <th></th>\n      <th></th>\n      <th></th>\n      <th></th>\n      <th></th>\n      <th></th>\n      <th></th>\n      <th></th>\n      <th></th>\n      <th></th>\n      <th></th>\n      <th></th>\n      <th></th>\n      <th></th>\n      <th></th>\n      <th></th>\n      <th></th>\n      <th></th>\n      <th></th>\n      <th></th>\n      <th></th>\n    </tr>\n  </thead>\n  <tbody>\n    <tr>\n      <th>392</th>\n      <td>33.0</td>\n      <td>35.0</td>\n      <td>0.0</td>\n      <td>0.0</td>\n      <td>32.0</td>\n      <td>28.0</td>\n      <td>0.0</td>\n      <td>32.0</td>\n      <td>40.0</td>\n      <td>0.0</td>\n      <td>...</td>\n      <td>0.0</td>\n      <td>0.0</td>\n      <td>31.0</td>\n      <td>27.0</td>\n      <td>28.0</td>\n      <td>0.0</td>\n      <td>0.0</td>\n      <td>0.0</td>\n      <td>0.0</td>\n      <td>32.0</td>\n    </tr>\n    <tr>\n      <th>375</th>\n      <td>35.0</td>\n      <td>41.0</td>\n      <td>32.0</td>\n      <td>34.0</td>\n      <td>40.0</td>\n      <td>43.0</td>\n      <td>0.0</td>\n      <td>43.0</td>\n      <td>30.0</td>\n      <td>0.0</td>\n      <td>...</td>\n      <td>30.0</td>\n      <td>48.0</td>\n      <td>36.0</td>\n      <td>32.0</td>\n      <td>37.0</td>\n      <td>45.0</td>\n      <td>0.0</td>\n      <td>30.0</td>\n      <td>0.0</td>\n      <td>38.0</td>\n    </tr>\n    <tr>\n      <th>125</th>\n      <td>37.0</td>\n      <td>36.0</td>\n      <td>39.0</td>\n      <td>37.0</td>\n      <td>39.0</td>\n      <td>39.0</td>\n      <td>25.0</td>\n      <td>40.0</td>\n      <td>38.0</td>\n      <td>38.0</td>\n      <td>...</td>\n      <td>39.0</td>\n      <td>41.0</td>\n      <td>40.0</td>\n      <td>38.0</td>\n      <td>38.0</td>\n      <td>37.0</td>\n      <td>39.0</td>\n      <td>36.0</td>\n      <td>45.0</td>\n      <td>38.0</td>\n    </tr>\n    <tr>\n      <th>470</th>\n      <td>36.0</td>\n      <td>35.0</td>\n      <td>35.0</td>\n      <td>36.0</td>\n      <td>36.0</td>\n      <td>33.0</td>\n      <td>0.0</td>\n      <td>37.0</td>\n      <td>37.0</td>\n      <td>0.0</td>\n      <td>...</td>\n      <td>35.0</td>\n      <td>30.0</td>\n      <td>38.0</td>\n      <td>39.0</td>\n      <td>34.0</td>\n      <td>42.0</td>\n      <td>40.0</td>\n      <td>33.0</td>\n      <td>0.0</td>\n      <td>36.0</td>\n    </tr>\n    <tr>\n      <th>47</th>\n      <td>28.0</td>\n      <td>30.0</td>\n      <td>0.0</td>\n      <td>30.0</td>\n      <td>25.0</td>\n      <td>33.0</td>\n      <td>33.0</td>\n      <td>32.0</td>\n      <td>25.0</td>\n      <td>0.0</td>\n      <td>...</td>\n      <td>29.0</td>\n      <td>27.0</td>\n      <td>29.0</td>\n      <td>28.0</td>\n      <td>28.0</td>\n      <td>35.0</td>\n      <td>35.0</td>\n      <td>29.0</td>\n      <td>0.0</td>\n      <td>29.0</td>\n    </tr>\n  </tbody>\n</table>\n<p>5 rows × 21 columns</p>\n</div>"
     },
     "execution_count": 317,
     "metadata": {},
     "output_type": "execute_result"
    }
   ],
   "source": [
    "user_train[:5]"
   ],
   "metadata": {
    "collapsed": false,
    "pycharm": {
     "name": "#%%\n"
    }
   }
  },
  {
   "cell_type": "code",
   "execution_count": 318,
   "outputs": [
    {
     "data": {
      "text/plain": "array([[0. , 0.8, 0. , ..., 0. , 0. , 0. ],\n       [0. , 0. , 0.7, ..., 0. , 0. , 0. ],\n       [1. , 0. , 0. , ..., 0. , 0. , 0. ],\n       [0. , 0. , 0. , ..., 0. , 0. , 0. ],\n       [0.6, 0.8, 0. , ..., 0. , 0. , 0. ]])"
     },
     "execution_count": 318,
     "metadata": {},
     "output_type": "execute_result"
    }
   ],
   "source": [
    "y_train[:5]"
   ],
   "metadata": {
    "collapsed": false,
    "pycharm": {
     "name": "#%%\n"
    }
   }
  }
 ],
 "metadata": {
  "kernelspec": {
   "display_name": "Python 3",
   "language": "python",
   "name": "python3"
  },
  "language_info": {
   "codemirror_mode": {
    "name": "ipython",
    "version": 2
   },
   "file_extension": ".py",
   "mimetype": "text/x-python",
   "name": "python",
   "nbconvert_exporter": "python",
   "pygments_lexer": "ipython2",
   "version": "2.7.6"
  }
 },
 "nbformat": 4,
 "nbformat_minor": 0
}