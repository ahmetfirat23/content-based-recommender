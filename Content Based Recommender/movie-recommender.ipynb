{
 "cells": [
  {
   "cell_type": "markdown",
   "source": [
    "!kaggle datasets list -s \"MPST: Movie Plot Synopses with Tags\""
   ],
   "metadata": {
    "collapsed": false,
    "pycharm": {
     "name": "#%% md\n"
    }
   }
  },
  {
   "cell_type": "markdown",
   "source": [
    "!kaggle datasets download -d \"cryptexcode/mpst-movie-plot-synopses-with-tags\""
   ],
   "metadata": {
    "collapsed": false,
    "pycharm": {
     "name": "#%% md\n"
    }
   }
  },
  {
   "cell_type": "markdown",
   "source": [
    "from zipfile import ZipFile\n",
    "with ZipFile(\"mpst-movie-plot-synopses-with-tags.zip\",'r') as zipfile:\n",
    "    zipfile.extractall(\"data\")"
   ],
   "metadata": {
    "collapsed": false,
    "pycharm": {
     "name": "#%% md\n"
    }
   }
  },
  {
   "cell_type": "code",
   "execution_count": 1,
   "metadata": {
    "_cell_guid": "b1076dfc-b9ad-4769-8c92-a6c4dae69d19",
    "_uuid": "8f2839f25d086af736a60e9eeb907d3b93b6e0e5",
    "execution": {
     "iopub.execute_input": "2022-09-18T18:45:48.344827Z",
     "iopub.status.busy": "2022-09-18T18:45:48.344407Z",
     "iopub.status.idle": "2022-09-18T18:45:48.357071Z",
     "shell.execute_reply": "2022-09-18T18:45:48.355847Z",
     "shell.execute_reply.started": "2022-09-18T18:45:48.344795Z"
    },
    "pycharm": {
     "name": "#%%\n"
    }
   },
   "outputs": [
    {
     "name": "stdout",
     "output_type": "stream",
     "text": [
      ".\\movie-recommender.ipynb\n",
      ".\\mpst-movie-plot-synopses-with-tags.zip\n",
      ".\\.idea\\.gitignore\n",
      ".\\.idea\\content based recommender.iml\n",
      ".\\.idea\\misc.xml\n",
      ".\\.idea\\modules.xml\n",
      ".\\.idea\\workspace.xml\n",
      ".\\.idea\\inspectionProfiles\\profiles_settings.xml\n",
      ".\\.idea\\inspectionProfiles\\Project_Default.xml\n",
      ".\\.ipynb_checkpoints\\movie-recommender-checkpoint.ipynb\n",
      ".\\data\\mpst_full_data.csv\n",
      ".\\data\\partition.json\n"
     ]
    }
   ],
   "source": [
    "import numpy as np # linear algebra\n",
    "import pandas as pd # data processing, CSV file I/O (e.g. pd.read_csv)\n",
    "\n",
    "import os\n",
    "for dirname, _, filenames in os.walk('.'):\n",
    "    for filename in filenames:\n",
    "        print(os.path.join(dirname, filename))\n"
   ]
  },
  {
   "cell_type": "code",
   "execution_count": 2,
   "metadata": {
    "execution": {
     "iopub.execute_input": "2022-09-18T18:45:48.359884Z",
     "iopub.status.busy": "2022-09-18T18:45:48.358990Z",
     "iopub.status.idle": "2022-09-18T18:45:49.303389Z",
     "shell.execute_reply": "2022-09-18T18:45:49.301969Z",
     "shell.execute_reply.started": "2022-09-18T18:45:48.359848Z"
    },
    "pycharm": {
     "name": "#%%\n"
    }
   },
   "outputs": [],
   "source": [
    "data = pd.read_csv('data/mpst_full_data.csv')"
   ]
  },
  {
   "cell_type": "code",
   "execution_count": 3,
   "metadata": {
    "execution": {
     "iopub.execute_input": "2022-09-18T18:45:49.306567Z",
     "iopub.status.busy": "2022-09-18T18:45:49.306219Z",
     "iopub.status.idle": "2022-09-18T18:45:49.321152Z",
     "shell.execute_reply": "2022-09-18T18:45:49.319889Z",
     "shell.execute_reply.started": "2022-09-18T18:45:49.306537Z"
    },
    "pycharm": {
     "name": "#%%\n"
    }
   },
   "outputs": [],
   "source": [
    "data = data.drop_duplicates(subset='title').reset_index(drop=True)"
   ]
  },
  {
   "cell_type": "code",
   "execution_count": 4,
   "metadata": {
    "execution": {
     "iopub.execute_input": "2022-09-18T18:45:49.323629Z",
     "iopub.status.busy": "2022-09-18T18:45:49.323135Z",
     "iopub.status.idle": "2022-09-18T18:45:49.436545Z",
     "shell.execute_reply": "2022-09-18T18:45:49.435239Z",
     "shell.execute_reply.started": "2022-09-18T18:45:49.323573Z"
    },
    "pycharm": {
     "name": "#%%\n"
    }
   },
   "outputs": [
    {
     "name": "stdout",
     "output_type": "stream",
     "text": [
      "(13757, 6) \n",
      "\n",
      "     imdb_id                                          title  \\\n",
      "0  tt0057603                        I tre volti della paura   \n",
      "1  tt1733125  Dungeons & Dragons: The Book of Vile Darkness   \n",
      "2  tt0033045                     The Shop Around the Corner   \n",
      "3  tt0113862                             Mr. Holland's Opus   \n",
      "4  tt0086250                                       Scarface   \n",
      "\n",
      "                                       plot_synopsis  \\\n",
      "0  Note: this synopsis is for the orginal Italian...   \n",
      "1  Two thousand years ago, Nhagruul the Foul, a s...   \n",
      "2  Matuschek's, a gift store in Budapest, is the ...   \n",
      "3  Glenn Holland, not a morning person by anyone'...   \n",
      "4  In May 1980, a Cuban man named Tony Montana (A...   \n",
      "\n",
      "                                                tags  split synopsis_source  \n",
      "0          cult, horror, gothic, murder, atmospheric  train            imdb  \n",
      "1                                           violence  train            imdb  \n",
      "2                                           romantic   test            imdb  \n",
      "3             inspiring, romantic, stupid, feel-good  train            imdb  \n",
      "4  cruelty, murder, dramatic, cult, violence, atm...    val            imdb   \n",
      "\n",
      "\n",
      "          imdb_id                    title  \\\n",
      "count       13757                    13757   \n",
      "unique      13757                    13757   \n",
      "top     tt0057603  I tre volti della paura   \n",
      "freq            1                        1   \n",
      "\n",
      "                                            plot_synopsis    tags  split  \\\n",
      "count                                               13757   13757  13757   \n",
      "unique                                              13458    5355      3   \n",
      "top     Dragon Ball Z picks up five years after the en...  murder  train   \n",
      "freq                                                   12     900   8798   \n",
      "\n",
      "       synopsis_source  \n",
      "count            13757  \n",
      "unique               2  \n",
      "top          wikipedia  \n",
      "freq              9698  \n"
     ]
    }
   ],
   "source": [
    "print(data.shape,'\\n')\n",
    "print(data.head(),'\\n\\n')\n",
    "print(data.describe())"
   ]
  },
  {
   "cell_type": "code",
   "execution_count": 5,
   "metadata": {
    "execution": {
     "iopub.execute_input": "2022-09-18T18:45:49.439608Z",
     "iopub.status.busy": "2022-09-18T18:45:49.439242Z",
     "iopub.status.idle": "2022-09-18T18:45:49.450576Z",
     "shell.execute_reply": "2022-09-18T18:45:49.448977Z",
     "shell.execute_reply.started": "2022-09-18T18:45:49.439575Z"
    },
    "pycharm": {
     "name": "#%%\n"
    }
   },
   "outputs": [],
   "source": [
    "ind_dict = dict(zip(data['title'],data.index))"
   ]
  },
  {
   "cell_type": "code",
   "execution_count": 6,
   "outputs": [],
   "source": [
    "from nltk.stem.porter import PorterStemmer\n",
    "from nltk.tokenize import word_tokenize\n",
    "from nltk.corpus import stopwords\n"
   ],
   "metadata": {
    "collapsed": false,
    "pycharm": {
     "name": "#%%\n"
    }
   }
  },
  {
   "cell_type": "markdown",
   "source": [
    "import nltk\n",
    "nltk.download(\"stopwords\")\n",
    "nltk.download('punkt')"
   ],
   "metadata": {
    "collapsed": false,
    "pycharm": {
     "name": "#%% md\n"
    }
   }
  },
  {
   "cell_type": "code",
   "execution_count": 7,
   "outputs": [],
   "source": [
    "class CustomTokenizer:\n",
    "    def __init__(self):\n",
    "        self.stemmer = PorterStemmer()\n",
    "    def __call__(self, doc):\n",
    "        return [self.stemmer.stem(token) for token in word_tokenize(doc) if token.isalpha()]\n",
    "custom_tokenizer = CustomTokenizer()\n",
    "stopwords = custom_tokenizer(' '.join(stopwords.words('english')))"
   ],
   "metadata": {
    "collapsed": false,
    "pycharm": {
     "name": "#%%\n"
    }
   }
  },
  {
   "cell_type": "code",
   "execution_count": 8,
   "metadata": {
    "execution": {
     "iopub.execute_input": "2022-09-18T18:45:49.454492Z",
     "iopub.status.busy": "2022-09-18T18:45:49.453439Z",
     "iopub.status.idle": "2022-09-18T18:45:49.462768Z",
     "shell.execute_reply": "2022-09-18T18:45:49.461707Z",
     "shell.execute_reply.started": "2022-09-18T18:45:49.454452Z"
    },
    "pycharm": {
     "name": "#%%\n"
    }
   },
   "outputs": [],
   "source": [
    "from sklearn.metrics.pairwise import linear_kernel\n",
    "from sklearn.feature_extraction.text import TfidfVectorizer"
   ]
  },
  {
   "cell_type": "code",
   "execution_count": 9,
   "metadata": {
    "execution": {
     "iopub.execute_input": "2022-09-18T18:45:49.465079Z",
     "iopub.status.busy": "2022-09-18T18:45:49.464690Z",
     "iopub.status.idle": "2022-09-18T18:46:00.507612Z",
     "shell.execute_reply": "2022-09-18T18:46:00.506581Z",
     "shell.execute_reply.started": "2022-09-18T18:45:49.465020Z"
    },
    "pycharm": {
     "name": "#%%\n"
    }
   },
   "outputs": [
    {
     "name": "stderr",
     "output_type": "stream",
     "text": [
      "c:\\python39\\lib\\site-packages\\sklearn\\feature_extraction\\text.py:404: UserWarning: Your stop_words may be inconsistent with your preprocessing. Tokenizing the stop words generated tokens ['becau'] not in stop_words.\n",
      "  warnings.warn(\n"
     ]
    }
   ],
   "source": [
    "vect = TfidfVectorizer(stop_words=stopwords,max_features=500,token_pattern=r'\\b[A-Za-z][A-Za-z]+\\b', tokenizer=custom_tokenizer)\n",
    "bag = vect.fit_transform(data['plot_synopsis']).toarray()\n",
    "movie_df = pd.DataFrame(bag,columns=vect.get_feature_names_out())"
   ]
  },
  {
   "cell_type": "code",
   "execution_count": 10,
   "metadata": {
    "execution": {
     "iopub.execute_input": "2022-09-18T18:46:00.509538Z",
     "iopub.status.busy": "2022-09-18T18:46:00.509162Z",
     "iopub.status.idle": "2022-09-18T18:46:27.419679Z",
     "shell.execute_reply": "2022-09-18T18:46:27.418657Z",
     "shell.execute_reply.started": "2022-09-18T18:46:00.509495Z"
    },
    "pycharm": {
     "name": "#%%\n"
    }
   },
   "outputs": [],
   "source": [
    "lk = linear_kernel(bag,bag)"
   ]
  },
  {
   "cell_type": "code",
   "execution_count": 27,
   "outputs": [],
   "source": [
    "def recommend_movie(movie_name):\n",
    "    idx = ind_dict[movie_name]\n",
    "    tags = data.loc[idx,'tags'].split(', ')\n",
    "    lk_w_idx = list(enumerate(lk[idx]))\n",
    "    found = [tupl[0] for tupl in sorted(lk_w_idx,reverse=True, key=lambda x:x[1])]\n",
    "    movies  = data.loc[found,['title']][1:100]\n",
    "    movies['score'] = range(99,0,-1)\n",
    "    for idx in movies.index.to_list():\n",
    "        movie_tags = data.loc[idx, 'tags'].split(\", \")\n",
    "        for tag in movie_tags:\n",
    "            if tag in tags:\n",
    "                movies.loc[idx,'score'] += 10\n",
    "            else:\n",
    "                movies.loc[idx,'score'] -= 2\n",
    "        return movies.sort_values(by='score',ascending=False)[:10]"
   ],
   "metadata": {
    "collapsed": false,
    "pycharm": {
     "name": "#%%\n"
    }
   }
  },
  {
   "cell_type": "code",
   "execution_count": 43,
   "outputs": [
    {
     "data": {
      "text/plain": "                           title  score\n2135                 Hoodwinked!    117\n8739          Raw! Raw! Rooster!     98\n8593     Dick Figures: The Movie     97\n2633  Batman: Under the Red Hood     96\n191              A Perfect World     95\n8427               Boiling Point     94\n8518               3-4 x jûgatsu     93\n9062            Cheyenne Wildcat     92\n6320    Little Red Riding Rabbit     91\n4321    The Hunt for Red October     90",
      "text/html": "<div>\n<style scoped>\n    .dataframe tbody tr th:only-of-type {\n        vertical-align: middle;\n    }\n\n    .dataframe tbody tr th {\n        vertical-align: top;\n    }\n\n    .dataframe thead th {\n        text-align: right;\n    }\n</style>\n<table border=\"1\" class=\"dataframe\">\n  <thead>\n    <tr style=\"text-align: right;\">\n      <th></th>\n      <th>title</th>\n      <th>score</th>\n    </tr>\n  </thead>\n  <tbody>\n    <tr>\n      <th>2135</th>\n      <td>Hoodwinked!</td>\n      <td>117</td>\n    </tr>\n    <tr>\n      <th>8739</th>\n      <td>Raw! Raw! Rooster!</td>\n      <td>98</td>\n    </tr>\n    <tr>\n      <th>8593</th>\n      <td>Dick Figures: The Movie</td>\n      <td>97</td>\n    </tr>\n    <tr>\n      <th>2633</th>\n      <td>Batman: Under the Red Hood</td>\n      <td>96</td>\n    </tr>\n    <tr>\n      <th>191</th>\n      <td>A Perfect World</td>\n      <td>95</td>\n    </tr>\n    <tr>\n      <th>8427</th>\n      <td>Boiling Point</td>\n      <td>94</td>\n    </tr>\n    <tr>\n      <th>8518</th>\n      <td>3-4 x jûgatsu</td>\n      <td>93</td>\n    </tr>\n    <tr>\n      <th>9062</th>\n      <td>Cheyenne Wildcat</td>\n      <td>92</td>\n    </tr>\n    <tr>\n      <th>6320</th>\n      <td>Little Red Riding Rabbit</td>\n      <td>91</td>\n    </tr>\n    <tr>\n      <th>4321</th>\n      <td>The Hunt for Red October</td>\n      <td>90</td>\n    </tr>\n  </tbody>\n</table>\n</div>"
     },
     "execution_count": 43,
     "metadata": {},
     "output_type": "execute_result"
    }
   ],
   "source": [
    "recommend_movie('The Shawshank Redemption')"
   ],
   "metadata": {
    "collapsed": false,
    "pycharm": {
     "name": "#%%\n"
    }
   }
  },
  {
   "cell_type": "code",
   "execution_count": 28,
   "outputs": [
    {
     "data": {
      "text/plain": "                         title  score\n2482    The Godfather: Part II    123\n13677         The Godfather II     98\n1999   The Godfather: Part III     97\n10986       Grand Theft Auto V     96\n2305                 Halloween     95\n1641            Arlington Road     94\n12488   The Lady from Shanghai     93\n595    Fireflies in the Garden     92\n1786                   Tootsie     91\n3372              Halloween II     90",
      "text/html": "<div>\n<style scoped>\n    .dataframe tbody tr th:only-of-type {\n        vertical-align: middle;\n    }\n\n    .dataframe tbody tr th {\n        vertical-align: top;\n    }\n\n    .dataframe thead th {\n        text-align: right;\n    }\n</style>\n<table border=\"1\" class=\"dataframe\">\n  <thead>\n    <tr style=\"text-align: right;\">\n      <th></th>\n      <th>title</th>\n      <th>score</th>\n    </tr>\n  </thead>\n  <tbody>\n    <tr>\n      <th>2482</th>\n      <td>The Godfather: Part II</td>\n      <td>123</td>\n    </tr>\n    <tr>\n      <th>13677</th>\n      <td>The Godfather II</td>\n      <td>98</td>\n    </tr>\n    <tr>\n      <th>1999</th>\n      <td>The Godfather: Part III</td>\n      <td>97</td>\n    </tr>\n    <tr>\n      <th>10986</th>\n      <td>Grand Theft Auto V</td>\n      <td>96</td>\n    </tr>\n    <tr>\n      <th>2305</th>\n      <td>Halloween</td>\n      <td>95</td>\n    </tr>\n    <tr>\n      <th>1641</th>\n      <td>Arlington Road</td>\n      <td>94</td>\n    </tr>\n    <tr>\n      <th>12488</th>\n      <td>The Lady from Shanghai</td>\n      <td>93</td>\n    </tr>\n    <tr>\n      <th>595</th>\n      <td>Fireflies in the Garden</td>\n      <td>92</td>\n    </tr>\n    <tr>\n      <th>1786</th>\n      <td>Tootsie</td>\n      <td>91</td>\n    </tr>\n    <tr>\n      <th>3372</th>\n      <td>Halloween II</td>\n      <td>90</td>\n    </tr>\n  </tbody>\n</table>\n</div>"
     },
     "execution_count": 28,
     "metadata": {},
     "output_type": "execute_result"
    }
   ],
   "source": [
    "recommend_movie('The Godfather')"
   ],
   "metadata": {
    "collapsed": false,
    "pycharm": {
     "name": "#%%\n"
    }
   }
  },
  {
   "cell_type": "code",
   "execution_count": 29,
   "outputs": [
    {
     "data": {
      "text/plain": "                      title  score\n4695  The Dark Knight Rises    193\n5684                Machete     98\n329           Batman Begins     97\n4230       The Big Lebowski     96\n1305        Licence to Kill     95\n1855      The International     94\n5217     Point of No Return     93\n1491              Daredevil     92\n4436   From Paris with Love     91\n137    The Bourne Supremacy     90",
      "text/html": "<div>\n<style scoped>\n    .dataframe tbody tr th:only-of-type {\n        vertical-align: middle;\n    }\n\n    .dataframe tbody tr th {\n        vertical-align: top;\n    }\n\n    .dataframe thead th {\n        text-align: right;\n    }\n</style>\n<table border=\"1\" class=\"dataframe\">\n  <thead>\n    <tr style=\"text-align: right;\">\n      <th></th>\n      <th>title</th>\n      <th>score</th>\n    </tr>\n  </thead>\n  <tbody>\n    <tr>\n      <th>4695</th>\n      <td>The Dark Knight Rises</td>\n      <td>193</td>\n    </tr>\n    <tr>\n      <th>5684</th>\n      <td>Machete</td>\n      <td>98</td>\n    </tr>\n    <tr>\n      <th>329</th>\n      <td>Batman Begins</td>\n      <td>97</td>\n    </tr>\n    <tr>\n      <th>4230</th>\n      <td>The Big Lebowski</td>\n      <td>96</td>\n    </tr>\n    <tr>\n      <th>1305</th>\n      <td>Licence to Kill</td>\n      <td>95</td>\n    </tr>\n    <tr>\n      <th>1855</th>\n      <td>The International</td>\n      <td>94</td>\n    </tr>\n    <tr>\n      <th>5217</th>\n      <td>Point of No Return</td>\n      <td>93</td>\n    </tr>\n    <tr>\n      <th>1491</th>\n      <td>Daredevil</td>\n      <td>92</td>\n    </tr>\n    <tr>\n      <th>4436</th>\n      <td>From Paris with Love</td>\n      <td>91</td>\n    </tr>\n    <tr>\n      <th>137</th>\n      <td>The Bourne Supremacy</td>\n      <td>90</td>\n    </tr>\n  </tbody>\n</table>\n</div>"
     },
     "execution_count": 29,
     "metadata": {},
     "output_type": "execute_result"
    }
   ],
   "source": [
    "recommend_movie('The Dark Knight')"
   ],
   "metadata": {
    "collapsed": false,
    "pycharm": {
     "name": "#%%\n"
    }
   }
  },
  {
   "cell_type": "code",
   "execution_count": 32,
   "outputs": [
    {
     "data": {
      "text/plain": "                                               title  score\n5322                                      Changeling     99\n1857                                 The Maze Runner     98\n8594                               Yaadon Ki Baaraat     97\n5223                                         Inserts     96\n4078                                     Primal Fear     95\n10480                                      Amusement     94\n1551                                    Fatal Vision     93\n9479                      Where the River Runs Black     92\n7502   Seduced by Madness: The Diane Borchardt Story     91\n8896                                          Frenzy     90",
      "text/html": "<div>\n<style scoped>\n    .dataframe tbody tr th:only-of-type {\n        vertical-align: middle;\n    }\n\n    .dataframe tbody tr th {\n        vertical-align: top;\n    }\n\n    .dataframe thead th {\n        text-align: right;\n    }\n</style>\n<table border=\"1\" class=\"dataframe\">\n  <thead>\n    <tr style=\"text-align: right;\">\n      <th></th>\n      <th>title</th>\n      <th>score</th>\n    </tr>\n  </thead>\n  <tbody>\n    <tr>\n      <th>5322</th>\n      <td>Changeling</td>\n      <td>99</td>\n    </tr>\n    <tr>\n      <th>1857</th>\n      <td>The Maze Runner</td>\n      <td>98</td>\n    </tr>\n    <tr>\n      <th>8594</th>\n      <td>Yaadon Ki Baaraat</td>\n      <td>97</td>\n    </tr>\n    <tr>\n      <th>5223</th>\n      <td>Inserts</td>\n      <td>96</td>\n    </tr>\n    <tr>\n      <th>4078</th>\n      <td>Primal Fear</td>\n      <td>95</td>\n    </tr>\n    <tr>\n      <th>10480</th>\n      <td>Amusement</td>\n      <td>94</td>\n    </tr>\n    <tr>\n      <th>1551</th>\n      <td>Fatal Vision</td>\n      <td>93</td>\n    </tr>\n    <tr>\n      <th>9479</th>\n      <td>Where the River Runs Black</td>\n      <td>92</td>\n    </tr>\n    <tr>\n      <th>7502</th>\n      <td>Seduced by Madness: The Diane Borchardt Story</td>\n      <td>91</td>\n    </tr>\n    <tr>\n      <th>8896</th>\n      <td>Frenzy</td>\n      <td>90</td>\n    </tr>\n  </tbody>\n</table>\n</div>"
     },
     "execution_count": 32,
     "metadata": {},
     "output_type": "execute_result"
    }
   ],
   "source": [
    "recommend_movie('12 Angry Men')"
   ],
   "metadata": {
    "collapsed": false,
    "pycharm": {
     "name": "#%%\n"
    }
   }
  },
  {
   "cell_type": "code",
   "execution_count": 33,
   "outputs": [
    {
     "data": {
      "text/plain": "                          title  score\n3236                 Hart's War    107\n2712       The Hallelujah Trail     98\n4072         The Killing Fields     97\n1597                  Zulu Dawn     96\n2374                      Mulan     95\n8989  Fire Emblem: Radiant Dawn     94\n9231                  La tregua     93\n157                Nine to Five     92\n739               Buck Privates     91\n7124                      Shoah     90",
      "text/html": "<div>\n<style scoped>\n    .dataframe tbody tr th:only-of-type {\n        vertical-align: middle;\n    }\n\n    .dataframe tbody tr th {\n        vertical-align: top;\n    }\n\n    .dataframe thead th {\n        text-align: right;\n    }\n</style>\n<table border=\"1\" class=\"dataframe\">\n  <thead>\n    <tr style=\"text-align: right;\">\n      <th></th>\n      <th>title</th>\n      <th>score</th>\n    </tr>\n  </thead>\n  <tbody>\n    <tr>\n      <th>3236</th>\n      <td>Hart's War</td>\n      <td>107</td>\n    </tr>\n    <tr>\n      <th>2712</th>\n      <td>The Hallelujah Trail</td>\n      <td>98</td>\n    </tr>\n    <tr>\n      <th>4072</th>\n      <td>The Killing Fields</td>\n      <td>97</td>\n    </tr>\n    <tr>\n      <th>1597</th>\n      <td>Zulu Dawn</td>\n      <td>96</td>\n    </tr>\n    <tr>\n      <th>2374</th>\n      <td>Mulan</td>\n      <td>95</td>\n    </tr>\n    <tr>\n      <th>8989</th>\n      <td>Fire Emblem: Radiant Dawn</td>\n      <td>94</td>\n    </tr>\n    <tr>\n      <th>9231</th>\n      <td>La tregua</td>\n      <td>93</td>\n    </tr>\n    <tr>\n      <th>157</th>\n      <td>Nine to Five</td>\n      <td>92</td>\n    </tr>\n    <tr>\n      <th>739</th>\n      <td>Buck Privates</td>\n      <td>91</td>\n    </tr>\n    <tr>\n      <th>7124</th>\n      <td>Shoah</td>\n      <td>90</td>\n    </tr>\n  </tbody>\n</table>\n</div>"
     },
     "execution_count": 33,
     "metadata": {},
     "output_type": "execute_result"
    }
   ],
   "source": [
    "recommend_movie('Schindler\\'s List')"
   ],
   "metadata": {
    "collapsed": false,
    "pycharm": {
     "name": "#%%\n"
    }
   }
  },
  {
   "cell_type": "code",
   "execution_count": 34,
   "outputs": [
    {
     "data": {
      "text/plain": "                                       title  score\n306    The Lord of the Rings: The Two Towers    205\n8501                  Transformers: The Game     98\n3059                                    Tron     97\n5278                            Transformers     96\n1810                                    Moon     95\n5886                         Buccaneer Bunny     94\n2000          Transformers: Dark of the Moon     93\n4054                                 If Only     92\n13387                             Horse Hare     91\n13570       Burn Notice: The Fall of Sam Axe     90",
      "text/html": "<div>\n<style scoped>\n    .dataframe tbody tr th:only-of-type {\n        vertical-align: middle;\n    }\n\n    .dataframe tbody tr th {\n        vertical-align: top;\n    }\n\n    .dataframe thead th {\n        text-align: right;\n    }\n</style>\n<table border=\"1\" class=\"dataframe\">\n  <thead>\n    <tr style=\"text-align: right;\">\n      <th></th>\n      <th>title</th>\n      <th>score</th>\n    </tr>\n  </thead>\n  <tbody>\n    <tr>\n      <th>306</th>\n      <td>The Lord of the Rings: The Two Towers</td>\n      <td>205</td>\n    </tr>\n    <tr>\n      <th>8501</th>\n      <td>Transformers: The Game</td>\n      <td>98</td>\n    </tr>\n    <tr>\n      <th>3059</th>\n      <td>Tron</td>\n      <td>97</td>\n    </tr>\n    <tr>\n      <th>5278</th>\n      <td>Transformers</td>\n      <td>96</td>\n    </tr>\n    <tr>\n      <th>1810</th>\n      <td>Moon</td>\n      <td>95</td>\n    </tr>\n    <tr>\n      <th>5886</th>\n      <td>Buccaneer Bunny</td>\n      <td>94</td>\n    </tr>\n    <tr>\n      <th>2000</th>\n      <td>Transformers: Dark of the Moon</td>\n      <td>93</td>\n    </tr>\n    <tr>\n      <th>4054</th>\n      <td>If Only</td>\n      <td>92</td>\n    </tr>\n    <tr>\n      <th>13387</th>\n      <td>Horse Hare</td>\n      <td>91</td>\n    </tr>\n    <tr>\n      <th>13570</th>\n      <td>Burn Notice: The Fall of Sam Axe</td>\n      <td>90</td>\n    </tr>\n  </tbody>\n</table>\n</div>"
     },
     "execution_count": 34,
     "metadata": {},
     "output_type": "execute_result"
    }
   ],
   "source": [
    "recommend_movie('The Lord of the Rings: The Return of the King')"
   ],
   "metadata": {
    "collapsed": false,
    "pycharm": {
     "name": "#%%\n"
    }
   }
  },
  {
   "cell_type": "code",
   "execution_count": 35,
   "outputs": [
    {
     "data": {
      "text/plain": "                             title  score\n4230              The Big Lebowski    193\n5217            Point of No Return     98\n351                         Trance     97\n4436          From Paris with Love     96\n5706   Flickan som lekte med elden     95\n3561          The Raid 2: Berandal     94\n11559                      Brigada     93\n2138    Per qualche dollaro in più     92\n2944                Mulholland Dr.     91\n4542               The Dark Knight     90",
      "text/html": "<div>\n<style scoped>\n    .dataframe tbody tr th:only-of-type {\n        vertical-align: middle;\n    }\n\n    .dataframe tbody tr th {\n        vertical-align: top;\n    }\n\n    .dataframe thead th {\n        text-align: right;\n    }\n</style>\n<table border=\"1\" class=\"dataframe\">\n  <thead>\n    <tr style=\"text-align: right;\">\n      <th></th>\n      <th>title</th>\n      <th>score</th>\n    </tr>\n  </thead>\n  <tbody>\n    <tr>\n      <th>4230</th>\n      <td>The Big Lebowski</td>\n      <td>193</td>\n    </tr>\n    <tr>\n      <th>5217</th>\n      <td>Point of No Return</td>\n      <td>98</td>\n    </tr>\n    <tr>\n      <th>351</th>\n      <td>Trance</td>\n      <td>97</td>\n    </tr>\n    <tr>\n      <th>4436</th>\n      <td>From Paris with Love</td>\n      <td>96</td>\n    </tr>\n    <tr>\n      <th>5706</th>\n      <td>Flickan som lekte med elden</td>\n      <td>95</td>\n    </tr>\n    <tr>\n      <th>3561</th>\n      <td>The Raid 2: Berandal</td>\n      <td>94</td>\n    </tr>\n    <tr>\n      <th>11559</th>\n      <td>Brigada</td>\n      <td>93</td>\n    </tr>\n    <tr>\n      <th>2138</th>\n      <td>Per qualche dollaro in più</td>\n      <td>92</td>\n    </tr>\n    <tr>\n      <th>2944</th>\n      <td>Mulholland Dr.</td>\n      <td>91</td>\n    </tr>\n    <tr>\n      <th>4542</th>\n      <td>The Dark Knight</td>\n      <td>90</td>\n    </tr>\n  </tbody>\n</table>\n</div>"
     },
     "execution_count": 35,
     "metadata": {},
     "output_type": "execute_result"
    }
   ],
   "source": [
    "recommend_movie('Pulp Fiction')"
   ],
   "metadata": {
    "collapsed": false,
    "pycharm": {
     "name": "#%%\n"
    }
   }
  },
  {
   "cell_type": "code",
   "execution_count": 39,
   "outputs": [
    {
     "data": {
      "text/plain": "                         title  score\n9238       A Shine of Rainbows    109\n2737      The Boat That Rocked     98\n4848                Piranha 3D     97\n1696               Underground     96\n857               Hong Xi Guan     95\n12024  The Crater Lake Monster     94\n1001    Mechanic: Resurrection     93\n5035                      Jaws     92\n5039              Act of Valor     91\n8303         Nicholas Nickleby     90",
      "text/html": "<div>\n<style scoped>\n    .dataframe tbody tr th:only-of-type {\n        vertical-align: middle;\n    }\n\n    .dataframe tbody tr th {\n        vertical-align: top;\n    }\n\n    .dataframe thead th {\n        text-align: right;\n    }\n</style>\n<table border=\"1\" class=\"dataframe\">\n  <thead>\n    <tr style=\"text-align: right;\">\n      <th></th>\n      <th>title</th>\n      <th>score</th>\n    </tr>\n  </thead>\n  <tbody>\n    <tr>\n      <th>9238</th>\n      <td>A Shine of Rainbows</td>\n      <td>109</td>\n    </tr>\n    <tr>\n      <th>2737</th>\n      <td>The Boat That Rocked</td>\n      <td>98</td>\n    </tr>\n    <tr>\n      <th>4848</th>\n      <td>Piranha 3D</td>\n      <td>97</td>\n    </tr>\n    <tr>\n      <th>1696</th>\n      <td>Underground</td>\n      <td>96</td>\n    </tr>\n    <tr>\n      <th>857</th>\n      <td>Hong Xi Guan</td>\n      <td>95</td>\n    </tr>\n    <tr>\n      <th>12024</th>\n      <td>The Crater Lake Monster</td>\n      <td>94</td>\n    </tr>\n    <tr>\n      <th>1001</th>\n      <td>Mechanic: Resurrection</td>\n      <td>93</td>\n    </tr>\n    <tr>\n      <th>5035</th>\n      <td>Jaws</td>\n      <td>92</td>\n    </tr>\n    <tr>\n      <th>5039</th>\n      <td>Act of Valor</td>\n      <td>91</td>\n    </tr>\n    <tr>\n      <th>8303</th>\n      <td>Nicholas Nickleby</td>\n      <td>90</td>\n    </tr>\n  </tbody>\n</table>\n</div>"
     },
     "execution_count": 39,
     "metadata": {},
     "output_type": "execute_result"
    }
   ],
   "source": [
    "recommend_movie('Forrest Gump')"
   ],
   "metadata": {
    "collapsed": false,
    "pycharm": {
     "name": "#%%\n"
    }
   }
  },
  {
   "cell_type": "code",
   "execution_count": 40,
   "outputs": [
    {
     "data": {
      "text/plain": "                        title  score\n4542          The Dark Knight    193\n4832    The Adjustment Bureau     98\n329             Batman Begins     97\n5684                  Machete     96\n4147                 Watchmen     95\n1743  The Karate Kid Part III     94\n812                       Joy     93\n3004                 Derailed     92\n5217       Point of No Return     91\n3287          American Hustle     90",
      "text/html": "<div>\n<style scoped>\n    .dataframe tbody tr th:only-of-type {\n        vertical-align: middle;\n    }\n\n    .dataframe tbody tr th {\n        vertical-align: top;\n    }\n\n    .dataframe thead th {\n        text-align: right;\n    }\n</style>\n<table border=\"1\" class=\"dataframe\">\n  <thead>\n    <tr style=\"text-align: right;\">\n      <th></th>\n      <th>title</th>\n      <th>score</th>\n    </tr>\n  </thead>\n  <tbody>\n    <tr>\n      <th>4542</th>\n      <td>The Dark Knight</td>\n      <td>193</td>\n    </tr>\n    <tr>\n      <th>4832</th>\n      <td>The Adjustment Bureau</td>\n      <td>98</td>\n    </tr>\n    <tr>\n      <th>329</th>\n      <td>Batman Begins</td>\n      <td>97</td>\n    </tr>\n    <tr>\n      <th>5684</th>\n      <td>Machete</td>\n      <td>96</td>\n    </tr>\n    <tr>\n      <th>4147</th>\n      <td>Watchmen</td>\n      <td>95</td>\n    </tr>\n    <tr>\n      <th>1743</th>\n      <td>The Karate Kid Part III</td>\n      <td>94</td>\n    </tr>\n    <tr>\n      <th>812</th>\n      <td>Joy</td>\n      <td>93</td>\n    </tr>\n    <tr>\n      <th>3004</th>\n      <td>Derailed</td>\n      <td>92</td>\n    </tr>\n    <tr>\n      <th>5217</th>\n      <td>Point of No Return</td>\n      <td>91</td>\n    </tr>\n    <tr>\n      <th>3287</th>\n      <td>American Hustle</td>\n      <td>90</td>\n    </tr>\n  </tbody>\n</table>\n</div>"
     },
     "execution_count": 40,
     "metadata": {},
     "output_type": "execute_result"
    }
   ],
   "source": [
    "recommend_movie('Fight Club')"
   ],
   "metadata": {
    "collapsed": false,
    "pycharm": {
     "name": "#%%\n"
    }
   }
  },
  {
   "cell_type": "code",
   "execution_count": 41,
   "outputs": [
    {
     "data": {
      "text/plain": "                            title  score\n3692                    Enchanted    101\n13503        A Life Less Ordinary     98\n10448  Curse of the Puppet Master     97\n2774                     The Omen     96\n9488                     Papurika     95\n13220                     Paprika     94\n4884                  I Am Legend     93\n3805                     Chi sei?     92\n4155              The Incredibles     91\n8489             The Sleeping Car     90",
      "text/html": "<div>\n<style scoped>\n    .dataframe tbody tr th:only-of-type {\n        vertical-align: middle;\n    }\n\n    .dataframe tbody tr th {\n        vertical-align: top;\n    }\n\n    .dataframe thead th {\n        text-align: right;\n    }\n</style>\n<table border=\"1\" class=\"dataframe\">\n  <thead>\n    <tr style=\"text-align: right;\">\n      <th></th>\n      <th>title</th>\n      <th>score</th>\n    </tr>\n  </thead>\n  <tbody>\n    <tr>\n      <th>3692</th>\n      <td>Enchanted</td>\n      <td>101</td>\n    </tr>\n    <tr>\n      <th>13503</th>\n      <td>A Life Less Ordinary</td>\n      <td>98</td>\n    </tr>\n    <tr>\n      <th>10448</th>\n      <td>Curse of the Puppet Master</td>\n      <td>97</td>\n    </tr>\n    <tr>\n      <th>2774</th>\n      <td>The Omen</td>\n      <td>96</td>\n    </tr>\n    <tr>\n      <th>9488</th>\n      <td>Papurika</td>\n      <td>95</td>\n    </tr>\n    <tr>\n      <th>13220</th>\n      <td>Paprika</td>\n      <td>94</td>\n    </tr>\n    <tr>\n      <th>4884</th>\n      <td>I Am Legend</td>\n      <td>93</td>\n    </tr>\n    <tr>\n      <th>3805</th>\n      <td>Chi sei?</td>\n      <td>92</td>\n    </tr>\n    <tr>\n      <th>4155</th>\n      <td>The Incredibles</td>\n      <td>91</td>\n    </tr>\n    <tr>\n      <th>8489</th>\n      <td>The Sleeping Car</td>\n      <td>90</td>\n    </tr>\n  </tbody>\n</table>\n</div>"
     },
     "execution_count": 41,
     "metadata": {},
     "output_type": "execute_result"
    }
   ],
   "source": [
    "recommend_movie('Inception')"
   ],
   "metadata": {
    "collapsed": false,
    "pycharm": {
     "name": "#%%\n"
    }
   }
  }
 ],
 "metadata": {
  "kernelspec": {
   "display_name": "Python 3",
   "language": "python",
   "name": "python3"
  },
  "language_info": {
   "codemirror_mode": {
    "name": "ipython",
    "version": 3
   },
   "file_extension": ".py",
   "mimetype": "text/x-python",
   "name": "python",
   "nbconvert_exporter": "python",
   "pygments_lexer": "ipython3",
   "version": "3.9.4"
  }
 },
 "nbformat": 4,
 "nbformat_minor": 4
}